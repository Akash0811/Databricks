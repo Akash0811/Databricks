{
 "cells": [
  {
   "cell_type": "markdown",
   "metadata": {
    "application/vnd.databricks.v1+cell": {
     "cellMetadata": {
      "byteLimit": 2048000,
      "rowLimit": 10000
     },
     "inputWidgets": {},
     "nuid": "7cbe8305-0c79-4c12-8df0-525c90c6f7b8",
     "showTitle": false,
     "title": ""
    }
   },
   "source": [
    "# Create `emp` table"
   ]
  },
  {
   "cell_type": "code",
   "execution_count": 0,
   "metadata": {
    "application/vnd.databricks.v1+cell": {
     "cellMetadata": {
      "byteLimit": 2048000,
      "rowLimit": 10000
     },
     "inputWidgets": {},
     "nuid": "d90187da-11e5-4a29-9617-c73c74530c65",
     "showTitle": false,
     "title": ""
    }
   },
   "outputs": [],
   "source": [
    "from pyspark.sql.functions import when, col\n",
    "\n",
    "# Read emp csv file\n",
    "emp = spark.read.csv(\"/FileStore/tables/emp.csv\", inferSchema=True, header=True)\n",
    "\n",
    "# Replace 'NULL' strings with actual nulls\n",
    "for column in emp.columns:\n",
    "    emp = emp.withColumn(column, when(col(column)==\"NULL\", None).otherwise(col(column)))\n",
    "\n",
    "# Create Temporary view for emp\n",
    "emp.createOrReplaceTempView(\"emp\")"
   ]
  },
  {
   "cell_type": "markdown",
   "metadata": {
    "application/vnd.databricks.v1+cell": {
     "cellMetadata": {
      "byteLimit": 2048000,
      "rowLimit": 10000
     },
     "inputWidgets": {},
     "nuid": "c0edc09c-83a2-4ed5-9efd-75ad185e384f",
     "showTitle": false,
     "title": ""
    }
   },
   "source": [
    "# Create `dept` table"
   ]
  },
  {
   "cell_type": "code",
   "execution_count": 0,
   "metadata": {
    "application/vnd.databricks.v1+cell": {
     "cellMetadata": {
      "byteLimit": 2048000,
      "rowLimit": 10000
     },
     "inputWidgets": {},
     "nuid": "7da57f4a-e0b6-4616-ae6d-36a6fd4efcd2",
     "showTitle": false,
     "title": ""
    }
   },
   "outputs": [],
   "source": [
    "from pyspark.sql.functions import when, col\n",
    "\n",
    "# Read emp csv file\n",
    "dept = spark.read.csv(\"/FileStore/tables/dept.csv\", inferSchema=True, header=True)\n",
    "\n",
    "# Replace 'NULL' strings with actual nulls\n",
    "for column in dept.columns:\n",
    "    dept = dept.withColumn(column, when(col(column)==\"NULL\", None).otherwise(col(column)))\n",
    "\n",
    "# Create Temporary view for emp\n",
    "dept.createOrReplaceTempView(\"dept\")"
   ]
  },
  {
   "cell_type": "markdown",
   "metadata": {
    "application/vnd.databricks.v1+cell": {
     "cellMetadata": {
      "byteLimit": 2048000,
      "rowLimit": 10000
     },
     "inputWidgets": {},
     "nuid": "07f5ddd7-27e4-4291-ba9b-6696153007cd",
     "showTitle": false,
     "title": ""
    }
   },
   "source": [
    "# Queries"
   ]
  },
  {
   "cell_type": "markdown",
   "metadata": {
    "application/vnd.databricks.v1+cell": {
     "cellMetadata": {
      "byteLimit": 2048000,
      "rowLimit": 10000
     },
     "inputWidgets": {},
     "nuid": "5d60208d-e6ea-4f53-bf83-0104fadac488",
     "showTitle": false,
     "title": ""
    }
   },
   "source": [
    "- Customizing how query looks. By understanding how to control how result set is organized , more readable and meaningful data can be inferred"
   ]
  },
  {
   "cell_type": "markdown",
   "metadata": {
    "application/vnd.databricks.v1+cell": {
     "cellMetadata": {
      "byteLimit": 2048000,
      "rowLimit": 10000
     },
     "inputWidgets": {},
     "nuid": "9bfecb25-bed4-4747-8048-195d60c2c0b6",
     "showTitle": false,
     "title": ""
    }
   },
   "source": [
    "## 1. Returning Query Results in Specific Order"
   ]
  },
  {
   "cell_type": "markdown",
   "metadata": {
    "application/vnd.databricks.v1+cell": {
     "cellMetadata": {
      "byteLimit": 2048000,
      "rowLimit": 10000
     },
     "inputWidgets": {},
     "nuid": "17a5d379-b543-4996-90c3-abf1d145d9a9",
     "showTitle": false,
     "title": ""
    }
   },
   "source": [
    "### A. `SQL`\n",
    "- By default, `ORDER BY` uses ascending sort. To sort by descending, use `desc` keyword"
   ]
  },
  {
   "cell_type": "code",
   "execution_count": 0,
   "metadata": {
    "application/vnd.databricks.v1+cell": {
     "cellMetadata": {
      "byteLimit": 2048000,
      "implicitDf": true,
      "rowLimit": 10000
     },
     "inputWidgets": {},
     "nuid": "fb007401-a4c3-4951-933a-33591a4a0966",
     "showTitle": false,
     "title": ""
    }
   },
   "outputs": [
    {
     "output_type": "display_data",
     "data": {
      "text/html": [
       "<style scoped>\n",
       "  .table-result-container {\n",
       "    max-height: 300px;\n",
       "    overflow: auto;\n",
       "  }\n",
       "  table, th, td {\n",
       "    border: 1px solid black;\n",
       "    border-collapse: collapse;\n",
       "  }\n",
       "  th, td {\n",
       "    padding: 5px;\n",
       "  }\n",
       "  th {\n",
       "    text-align: left;\n",
       "  }\n",
       "</style><div class='table-result-container'><table class='table-result'><thead style='background-color: white'><tr><th>ename</th><th>job</th><th>sal</th></tr></thead><tbody><tr><td>CLARK</td><td>MANAGER</td><td>4000</td></tr><tr><td>KING</td><td>PRESIDENT</td><td>4000</td></tr><tr><td>MILLER</td><td>CLERK</td><td>4000</td></tr></tbody></table></div>"
      ]
     },
     "metadata": {
      "application/vnd.databricks.v1+output": {
       "addedWidgets": {},
       "aggData": [],
       "aggError": "",
       "aggOverflow": false,
       "aggSchema": [],
       "aggSeriesLimitReached": false,
       "aggType": "",
       "arguments": {},
       "columnCustomDisplayInfos": {},
       "data": [
        [
         "CLARK",
         "MANAGER",
         "4000"
        ],
        [
         "KING",
         "PRESIDENT",
         "4000"
        ],
        [
         "MILLER",
         "CLERK",
         "4000"
        ]
       ],
       "datasetInfos": [],
       "dbfsResultPath": null,
       "isJsonSchema": true,
       "metadata": {},
       "overflow": false,
       "plotOptions": {
        "customPlotOptions": {},
        "displayType": "table",
        "pivotAggregation": null,
        "pivotColumns": null,
        "xColumns": null,
        "yColumns": null
       },
       "removedWidgets": [],
       "schema": [
        {
         "metadata": "{}",
         "name": "ename",
         "type": "\"string\""
        },
        {
         "metadata": "{}",
         "name": "job",
         "type": "\"string\""
        },
        {
         "metadata": "{}",
         "name": "sal",
         "type": "\"string\""
        }
       ],
       "type": "table"
      }
     },
     "output_type": "display_data"
    }
   ],
   "source": [
    "%sql\n",
    "select ename, job, sal\n",
    "from emp\n",
    "where deptno=10\n",
    "order by ename"
   ]
  },
  {
   "cell_type": "code",
   "execution_count": 0,
   "metadata": {
    "application/vnd.databricks.v1+cell": {
     "cellMetadata": {
      "byteLimit": 2048000,
      "implicitDf": true,
      "rowLimit": 10000
     },
     "inputWidgets": {},
     "nuid": "70a975ed-30bb-4bc5-831a-8287cf10480a",
     "showTitle": false,
     "title": ""
    }
   },
   "outputs": [
    {
     "output_type": "display_data",
     "data": {
      "text/html": [
       "<style scoped>\n",
       "  .table-result-container {\n",
       "    max-height: 300px;\n",
       "    overflow: auto;\n",
       "  }\n",
       "  table, th, td {\n",
       "    border: 1px solid black;\n",
       "    border-collapse: collapse;\n",
       "  }\n",
       "  th, td {\n",
       "    padding: 5px;\n",
       "  }\n",
       "  th {\n",
       "    text-align: left;\n",
       "  }\n",
       "</style><div class='table-result-container'><table class='table-result'><thead style='background-color: white'><tr><th>ename</th><th>job</th><th>sal</th></tr></thead><tbody><tr><td>MILLER</td><td>CLERK</td><td>4000</td></tr><tr><td>KING</td><td>PRESIDENT</td><td>4000</td></tr><tr><td>CLARK</td><td>MANAGER</td><td>4000</td></tr></tbody></table></div>"
      ]
     },
     "metadata": {
      "application/vnd.databricks.v1+output": {
       "addedWidgets": {},
       "aggData": [],
       "aggError": "",
       "aggOverflow": false,
       "aggSchema": [],
       "aggSeriesLimitReached": false,
       "aggType": "",
       "arguments": {},
       "columnCustomDisplayInfos": {},
       "data": [
        [
         "MILLER",
         "CLERK",
         "4000"
        ],
        [
         "KING",
         "PRESIDENT",
         "4000"
        ],
        [
         "CLARK",
         "MANAGER",
         "4000"
        ]
       ],
       "datasetInfos": [],
       "dbfsResultPath": null,
       "isJsonSchema": true,
       "metadata": {},
       "overflow": false,
       "plotOptions": {
        "customPlotOptions": {},
        "displayType": "table",
        "pivotAggregation": null,
        "pivotColumns": null,
        "xColumns": null,
        "yColumns": null
       },
       "removedWidgets": [],
       "schema": [
        {
         "metadata": "{}",
         "name": "ename",
         "type": "\"string\""
        },
        {
         "metadata": "{}",
         "name": "job",
         "type": "\"string\""
        },
        {
         "metadata": "{}",
         "name": "sal",
         "type": "\"string\""
        }
       ],
       "type": "table"
      }
     },
     "output_type": "display_data"
    }
   ],
   "source": [
    "%sql\n",
    "select ename, job, sal\n",
    "from emp\n",
    "where deptno=10\n",
    "order by ename desc"
   ]
  },
  {
   "cell_type": "markdown",
   "metadata": {
    "application/vnd.databricks.v1+cell": {
     "cellMetadata": {
      "byteLimit": 2048000,
      "rowLimit": 10000
     },
     "inputWidgets": {},
     "nuid": "c90020d2-ed9f-4d8a-b80e-f4ad6e9d6e65",
     "showTitle": false,
     "title": ""
    }
   },
   "source": [
    "### B. `PySpark`"
   ]
  },
  {
   "cell_type": "code",
   "execution_count": 0,
   "metadata": {
    "application/vnd.databricks.v1+cell": {
     "cellMetadata": {
      "byteLimit": 2048000,
      "rowLimit": 10000
     },
     "inputWidgets": {},
     "nuid": "12cb1ec5-1579-4094-9f2b-8a4d25c00148",
     "showTitle": false,
     "title": ""
    }
   },
   "outputs": [
    {
     "output_type": "display_data",
     "data": {
      "text/html": [
       "<style scoped>\n",
       "  .table-result-container {\n",
       "    max-height: 300px;\n",
       "    overflow: auto;\n",
       "  }\n",
       "  table, th, td {\n",
       "    border: 1px solid black;\n",
       "    border-collapse: collapse;\n",
       "  }\n",
       "  th, td {\n",
       "    padding: 5px;\n",
       "  }\n",
       "  th {\n",
       "    text-align: left;\n",
       "  }\n",
       "</style><div class='table-result-container'><table class='table-result'><thead style='background-color: white'><tr><th>ename</th><th>job</th><th>sal</th></tr></thead><tbody><tr><td>CLARK</td><td>MANAGER</td><td>4000</td></tr><tr><td>KING</td><td>PRESIDENT</td><td>4000</td></tr><tr><td>MILLER</td><td>CLERK</td><td>4000</td></tr></tbody></table></div>"
      ]
     },
     "metadata": {
      "application/vnd.databricks.v1+output": {
       "addedWidgets": {},
       "aggData": [],
       "aggError": "",
       "aggOverflow": false,
       "aggSchema": [],
       "aggSeriesLimitReached": false,
       "aggType": "",
       "arguments": {},
       "columnCustomDisplayInfos": {},
       "data": [
        [
         "CLARK",
         "MANAGER",
         "4000"
        ],
        [
         "KING",
         "PRESIDENT",
         "4000"
        ],
        [
         "MILLER",
         "CLERK",
         "4000"
        ]
       ],
       "datasetInfos": [],
       "dbfsResultPath": null,
       "isJsonSchema": true,
       "metadata": {},
       "overflow": false,
       "plotOptions": {
        "customPlotOptions": {},
        "displayType": "table",
        "pivotAggregation": null,
        "pivotColumns": null,
        "xColumns": null,
        "yColumns": null
       },
       "removedWidgets": [],
       "schema": [
        {
         "metadata": "{}",
         "name": "ename",
         "type": "\"string\""
        },
        {
         "metadata": "{}",
         "name": "job",
         "type": "\"string\""
        },
        {
         "metadata": "{}",
         "name": "sal",
         "type": "\"string\""
        }
       ],
       "type": "table"
      }
     },
     "output_type": "display_data"
    }
   ],
   "source": [
    "from pyspark.sql.functions import col\n",
    "display(emp.select('ename', 'job', 'sal').filter(emp.deptno=='10').orderBy(col('ename')))"
   ]
  },
  {
   "cell_type": "code",
   "execution_count": 0,
   "metadata": {
    "application/vnd.databricks.v1+cell": {
     "cellMetadata": {
      "byteLimit": 2048000,
      "rowLimit": 10000
     },
     "inputWidgets": {},
     "nuid": "50777944-1b35-4d6b-9b27-61604a235fe3",
     "showTitle": false,
     "title": ""
    }
   },
   "outputs": [
    {
     "output_type": "display_data",
     "data": {
      "text/html": [
       "<style scoped>\n",
       "  .table-result-container {\n",
       "    max-height: 300px;\n",
       "    overflow: auto;\n",
       "  }\n",
       "  table, th, td {\n",
       "    border: 1px solid black;\n",
       "    border-collapse: collapse;\n",
       "  }\n",
       "  th, td {\n",
       "    padding: 5px;\n",
       "  }\n",
       "  th {\n",
       "    text-align: left;\n",
       "  }\n",
       "</style><div class='table-result-container'><table class='table-result'><thead style='background-color: white'><tr><th>ename</th><th>job</th><th>sal</th></tr></thead><tbody><tr><td>MILLER</td><td>CLERK</td><td>4000</td></tr><tr><td>KING</td><td>PRESIDENT</td><td>4000</td></tr><tr><td>CLARK</td><td>MANAGER</td><td>4000</td></tr></tbody></table></div>"
      ]
     },
     "metadata": {
      "application/vnd.databricks.v1+output": {
       "addedWidgets": {},
       "aggData": [],
       "aggError": "",
       "aggOverflow": false,
       "aggSchema": [],
       "aggSeriesLimitReached": false,
       "aggType": "",
       "arguments": {},
       "columnCustomDisplayInfos": {},
       "data": [
        [
         "MILLER",
         "CLERK",
         "4000"
        ],
        [
         "KING",
         "PRESIDENT",
         "4000"
        ],
        [
         "CLARK",
         "MANAGER",
         "4000"
        ]
       ],
       "datasetInfos": [],
       "dbfsResultPath": null,
       "isJsonSchema": true,
       "metadata": {},
       "overflow": false,
       "plotOptions": {
        "customPlotOptions": {},
        "displayType": "table",
        "pivotAggregation": null,
        "pivotColumns": null,
        "xColumns": null,
        "yColumns": null
       },
       "removedWidgets": [],
       "schema": [
        {
         "metadata": "{}",
         "name": "ename",
         "type": "\"string\""
        },
        {
         "metadata": "{}",
         "name": "job",
         "type": "\"string\""
        },
        {
         "metadata": "{}",
         "name": "sal",
         "type": "\"string\""
        }
       ],
       "type": "table"
      }
     },
     "output_type": "display_data"
    }
   ],
   "source": [
    "from pyspark.sql.functions import col\n",
    "display(emp.select('ename', 'job', 'sal').filter(emp.deptno=='10').orderBy(col('ename').desc()))"
   ]
  },
  {
   "cell_type": "markdown",
   "metadata": {
    "application/vnd.databricks.v1+cell": {
     "cellMetadata": {
      "byteLimit": 2048000,
      "rowLimit": 10000
     },
     "inputWidgets": {},
     "nuid": "a74ff59d-17dd-440d-b685-e4ea1b6f8afe",
     "showTitle": false,
     "title": ""
    }
   },
   "source": [
    "### C. `Pandas`"
   ]
  },
  {
   "cell_type": "code",
   "execution_count": 0,
   "metadata": {
    "application/vnd.databricks.v1+cell": {
     "cellMetadata": {
      "byteLimit": 2048000,
      "rowLimit": 10000
     },
     "inputWidgets": {},
     "nuid": "8b34013a-34cf-435b-9e95-2cf848a7cee6",
     "showTitle": false,
     "title": ""
    }
   },
   "outputs": [
    {
     "output_type": "display_data",
     "data": {
      "text/html": [
       "<style scoped>\n",
       "  .table-result-container {\n",
       "    max-height: 300px;\n",
       "    overflow: auto;\n",
       "  }\n",
       "  table, th, td {\n",
       "    border: 1px solid black;\n",
       "    border-collapse: collapse;\n",
       "  }\n",
       "  th, td {\n",
       "    padding: 5px;\n",
       "  }\n",
       "  th {\n",
       "    text-align: left;\n",
       "  }\n",
       "</style><div class='table-result-container'><table class='table-result'><thead style='background-color: white'><tr><th>ename</th><th>job</th><th>sal</th></tr></thead><tbody><tr><td>MILLER</td><td>CLERK</td><td>4000</td></tr><tr><td>KING</td><td>PRESIDENT</td><td>4000</td></tr><tr><td>CLARK</td><td>MANAGER</td><td>4000</td></tr></tbody></table></div>"
      ]
     },
     "metadata": {
      "application/vnd.databricks.v1+output": {
       "addedWidgets": {},
       "aggData": [],
       "aggError": "",
       "aggOverflow": false,
       "aggSchema": [],
       "aggSeriesLimitReached": false,
       "aggType": "",
       "arguments": {},
       "columnCustomDisplayInfos": {},
       "data": [
        [
         "MILLER",
         "CLERK",
         "4000"
        ],
        [
         "KING",
         "PRESIDENT",
         "4000"
        ],
        [
         "CLARK",
         "MANAGER",
         "4000"
        ]
       ],
       "datasetInfos": [],
       "dbfsResultPath": null,
       "isJsonSchema": true,
       "metadata": {},
       "overflow": false,
       "plotOptions": {
        "customPlotOptions": {},
        "displayType": "table",
        "pivotAggregation": null,
        "pivotColumns": null,
        "xColumns": null,
        "yColumns": null
       },
       "removedWidgets": [],
       "schema": [
        {
         "metadata": "{}",
         "name": "ename",
         "type": "\"string\""
        },
        {
         "metadata": "{}",
         "name": "job",
         "type": "\"string\""
        },
        {
         "metadata": "{}",
         "name": "sal",
         "type": "\"string\""
        }
       ],
       "type": "table"
      }
     },
     "output_type": "display_data"
    }
   ],
   "source": [
    "df_emp_pandas = emp.toPandas()\n",
    "\n",
    "df_emp_pandas['deptno'] = df_emp_pandas[df_emp_pandas['deptno'].notna()]['deptno'].astype('int64')\n",
    "\n",
    "display(df_emp_pandas[df_emp_pandas['deptno']==10][['ename', 'job', 'sal']].sort_values(by='ename', ascending=False))"
   ]
  },
  {
   "cell_type": "markdown",
   "metadata": {
    "application/vnd.databricks.v1+cell": {
     "cellMetadata": {
      "byteLimit": 2048000,
      "rowLimit": 10000
     },
     "inputWidgets": {},
     "nuid": "3c969f8b-1875-44af-b7b6-2a5552bb1f2b",
     "showTitle": false,
     "title": ""
    }
   },
   "source": [
    "## 2. Sorting by Multiple Fields"
   ]
  },
  {
   "cell_type": "markdown",
   "metadata": {
    "application/vnd.databricks.v1+cell": {
     "cellMetadata": {
      "byteLimit": 2048000,
      "rowLimit": 10000
     },
     "inputWidgets": {},
     "nuid": "85abca8d-44ce-42c8-b594-c3b8d249fbef",
     "showTitle": false,
     "title": ""
    }
   },
   "source": [
    "### A. `SQL`\n",
    "- Order of precedence in `ORDER BY` is from left to right\n",
    "- Generally permitted to order by column not in `SELECT` list by explicitly naming the column but not possible if `GROUP BY` or `DISTINCT` is used"
   ]
  },
  {
   "cell_type": "code",
   "execution_count": 0,
   "metadata": {
    "application/vnd.databricks.v1+cell": {
     "cellMetadata": {
      "byteLimit": 2048000,
      "implicitDf": true,
      "rowLimit": 10000
     },
     "inputWidgets": {},
     "nuid": "b29167fc-2965-48bb-b0d3-f4f783ec8c81",
     "showTitle": false,
     "title": ""
    }
   },
   "outputs": [
    {
     "output_type": "display_data",
     "data": {
      "text/html": [
       "<style scoped>\n",
       "  .table-result-container {\n",
       "    max-height: 300px;\n",
       "    overflow: auto;\n",
       "  }\n",
       "  table, th, td {\n",
       "    border: 1px solid black;\n",
       "    border-collapse: collapse;\n",
       "  }\n",
       "  th, td {\n",
       "    padding: 5px;\n",
       "  }\n",
       "  th {\n",
       "    text-align: left;\n",
       "  }\n",
       "</style><div class='table-result-container'><table class='table-result'><thead style='background-color: white'><tr><th>empno</th><th>deptno</th></tr></thead><tbody><tr><td>7782</td><td>10</td></tr><tr><td>7839</td><td>10</td></tr><tr><td>7934</td><td>10</td></tr></tbody></table></div>"
      ]
     },
     "metadata": {
      "application/vnd.databricks.v1+output": {
       "addedWidgets": {},
       "aggData": [],
       "aggError": "",
       "aggOverflow": false,
       "aggSchema": [],
       "aggSeriesLimitReached": false,
       "aggType": "",
       "arguments": {},
       "columnCustomDisplayInfos": {},
       "data": [
        [
         7782,
         "10"
        ],
        [
         7839,
         "10"
        ],
        [
         7934,
         "10"
        ]
       ],
       "datasetInfos": [],
       "dbfsResultPath": null,
       "isJsonSchema": true,
       "metadata": {},
       "overflow": false,
       "plotOptions": {
        "customPlotOptions": {},
        "displayType": "table",
        "pivotAggregation": null,
        "pivotColumns": null,
        "xColumns": null,
        "yColumns": null
       },
       "removedWidgets": [],
       "schema": [
        {
         "metadata": "{}",
         "name": "empno",
         "type": "\"integer\""
        },
        {
         "metadata": "{}",
         "name": "deptno",
         "type": "\"string\""
        }
       ],
       "type": "table"
      }
     },
     "output_type": "display_data"
    }
   ],
   "source": [
    "%sql\n",
    "select empno, deptno\n",
    "from emp\n",
    "where deptno=10\n",
    "order by empno, sal desc"
   ]
  },
  {
   "cell_type": "markdown",
   "metadata": {
    "application/vnd.databricks.v1+cell": {
     "cellMetadata": {
      "byteLimit": 2048000,
      "rowLimit": 10000
     },
     "inputWidgets": {},
     "nuid": "09535029-a306-4f4b-8a5c-5588f97f1490",
     "showTitle": false,
     "title": ""
    }
   },
   "source": [
    "### B. `PySpark`"
   ]
  },
  {
   "cell_type": "code",
   "execution_count": 0,
   "metadata": {
    "application/vnd.databricks.v1+cell": {
     "cellMetadata": {
      "byteLimit": 2048000,
      "rowLimit": 10000
     },
     "inputWidgets": {},
     "nuid": "e160d45c-2f7c-48e2-aba4-4cc4ea7ea532",
     "showTitle": false,
     "title": ""
    }
   },
   "outputs": [
    {
     "output_type": "display_data",
     "data": {
      "text/html": [
       "<style scoped>\n",
       "  .table-result-container {\n",
       "    max-height: 300px;\n",
       "    overflow: auto;\n",
       "  }\n",
       "  table, th, td {\n",
       "    border: 1px solid black;\n",
       "    border-collapse: collapse;\n",
       "  }\n",
       "  th, td {\n",
       "    padding: 5px;\n",
       "  }\n",
       "  th {\n",
       "    text-align: left;\n",
       "  }\n",
       "</style><div class='table-result-container'><table class='table-result'><thead style='background-color: white'><tr><th>empno</th><th>deptno</th></tr></thead><tbody><tr><td>7934</td><td>10</td></tr><tr><td>7839</td><td>10</td></tr><tr><td>7782</td><td>10</td></tr></tbody></table></div>"
      ]
     },
     "metadata": {
      "application/vnd.databricks.v1+output": {
       "addedWidgets": {},
       "aggData": [],
       "aggError": "",
       "aggOverflow": false,
       "aggSchema": [],
       "aggSeriesLimitReached": false,
       "aggType": "",
       "arguments": {},
       "columnCustomDisplayInfos": {},
       "data": [
        [
         7934,
         "10"
        ],
        [
         7839,
         "10"
        ],
        [
         7782,
         "10"
        ]
       ],
       "datasetInfos": [],
       "dbfsResultPath": null,
       "isJsonSchema": true,
       "metadata": {},
       "overflow": false,
       "plotOptions": {
        "customPlotOptions": {},
        "displayType": "table",
        "pivotAggregation": null,
        "pivotColumns": null,
        "xColumns": null,
        "yColumns": null
       },
       "removedWidgets": [],
       "schema": [
        {
         "metadata": "{}",
         "name": "empno",
         "type": "\"integer\""
        },
        {
         "metadata": "{}",
         "name": "deptno",
         "type": "\"string\""
        }
       ],
       "type": "table"
      }
     },
     "output_type": "display_data"
    }
   ],
   "source": [
    "from pyspark.sql.functions import col\n",
    "display(emp.select('empno', 'deptno').filter(col('deptno')==10).orderBy(col('empno').desc(), col('sal').desc()))"
   ]
  },
  {
   "cell_type": "markdown",
   "metadata": {
    "application/vnd.databricks.v1+cell": {
     "cellMetadata": {
      "byteLimit": 2048000,
      "rowLimit": 10000
     },
     "inputWidgets": {},
     "nuid": "3bdb5342-dba1-4dd3-9dde-7387af323e19",
     "showTitle": false,
     "title": ""
    }
   },
   "source": [
    "### C. `Pandas`"
   ]
  },
  {
   "cell_type": "code",
   "execution_count": 0,
   "metadata": {
    "application/vnd.databricks.v1+cell": {
     "cellMetadata": {
      "byteLimit": 2048000,
      "rowLimit": 10000
     },
     "inputWidgets": {},
     "nuid": "125bebba-e66f-4d2e-b270-4d8b972c36fc",
     "showTitle": false,
     "title": ""
    }
   },
   "outputs": [
    {
     "output_type": "display_data",
     "data": {
      "text/html": [
       "<style scoped>\n",
       "  .table-result-container {\n",
       "    max-height: 300px;\n",
       "    overflow: auto;\n",
       "  }\n",
       "  table, th, td {\n",
       "    border: 1px solid black;\n",
       "    border-collapse: collapse;\n",
       "  }\n",
       "  th, td {\n",
       "    padding: 5px;\n",
       "  }\n",
       "  th {\n",
       "    text-align: left;\n",
       "  }\n",
       "</style><div class='table-result-container'><table class='table-result'><thead style='background-color: white'><tr><th>empno</th><th>deptno</th></tr></thead><tbody><tr><td>7934</td><td>10.0</td></tr><tr><td>7839</td><td>10.0</td></tr><tr><td>7782</td><td>10.0</td></tr></tbody></table></div>"
      ]
     },
     "metadata": {
      "application/vnd.databricks.v1+output": {
       "addedWidgets": {},
       "aggData": [],
       "aggError": "",
       "aggOverflow": false,
       "aggSchema": [],
       "aggSeriesLimitReached": false,
       "aggType": "",
       "arguments": {},
       "columnCustomDisplayInfos": {},
       "data": [
        [
         7934,
         10.0
        ],
        [
         7839,
         10.0
        ],
        [
         7782,
         10.0
        ]
       ],
       "datasetInfos": [],
       "dbfsResultPath": null,
       "isJsonSchema": true,
       "metadata": {},
       "overflow": false,
       "plotOptions": {
        "customPlotOptions": {},
        "displayType": "table",
        "pivotAggregation": null,
        "pivotColumns": null,
        "xColumns": null,
        "yColumns": null
       },
       "removedWidgets": [],
       "schema": [
        {
         "metadata": "{}",
         "name": "empno",
         "type": "\"integer\""
        },
        {
         "metadata": "{}",
         "name": "deptno",
         "type": "\"double\""
        }
       ],
       "type": "table"
      }
     },
     "output_type": "display_data"
    }
   ],
   "source": [
    "df_emp_pandas = emp.toPandas()\n",
    "\n",
    "df_emp_pandas['deptno'] = df_emp_pandas[df_emp_pandas['deptno'].notna()]['deptno'].astype('int64')\n",
    "\n",
    "display(df_emp_pandas[df_emp_pandas['deptno']==10].sort_values(by=['empno', 'sal'], ascending=[False, False])[['empno', 'deptno']])"
   ]
  },
  {
   "cell_type": "markdown",
   "metadata": {
    "application/vnd.databricks.v1+cell": {
     "cellMetadata": {
      "byteLimit": 2048000,
      "rowLimit": 10000
     },
     "inputWidgets": {},
     "nuid": "d56bc3eb-b277-44dc-90ec-aac4113e2793",
     "showTitle": false,
     "title": ""
    }
   },
   "source": [
    "## 3. Sorting by Substrings"
   ]
  },
  {
   "cell_type": "markdown",
   "metadata": {
    "application/vnd.databricks.v1+cell": {
     "cellMetadata": {
      "byteLimit": 2048000,
      "rowLimit": 10000
     },
     "inputWidgets": {},
     "nuid": "77815c06-5aa0-4134-acbe-f32041ff9fa4",
     "showTitle": false,
     "title": ""
    }
   },
   "source": [
    "### A. `SQL`\n",
    "- Sorting by last 2 characters in string\n",
    "- psql uses `SUBSTR` function to get a substring where first argument is the column and second is the start of string"
   ]
  },
  {
   "cell_type": "code",
   "execution_count": 0,
   "metadata": {
    "application/vnd.databricks.v1+cell": {
     "cellMetadata": {
      "byteLimit": 2048000,
      "implicitDf": true,
      "rowLimit": 10000
     },
     "inputWidgets": {},
     "nuid": "a01301d3-664f-48d0-b804-38a0c0cff0cd",
     "showTitle": false,
     "title": ""
    }
   },
   "outputs": [
    {
     "output_type": "display_data",
     "data": {
      "text/html": [
       "<style scoped>\n",
       "  .table-result-container {\n",
       "    max-height: 300px;\n",
       "    overflow: auto;\n",
       "  }\n",
       "  table, th, td {\n",
       "    border: 1px solid black;\n",
       "    border-collapse: collapse;\n",
       "  }\n",
       "  th, td {\n",
       "    padding: 5px;\n",
       "  }\n",
       "  th {\n",
       "    text-align: left;\n",
       "  }\n",
       "</style><div class='table-result-container'><table class='table-result'><thead style='background-color: white'><tr><th>ename</th><th>job</th></tr></thead><tbody><tr><td>ALLEN</td><td>SALESMAN</td></tr><tr><td>WARD</td><td>SALESMAN</td></tr><tr><td>MARTIN</td><td>SALESMAN</td></tr><tr><td>TURNER</td><td>SALESMAN</td></tr><tr><td>YODA</td><td>JEDI</td></tr><tr><td>BLAKE</td><td>MANAGER</td></tr><tr><td>JONES</td><td>MANAGER</td></tr><tr><td>CLARK</td><td>MANAGER</td></tr><tr><td>KING</td><td>PRESIDENT</td></tr><tr><td>JAMES</td><td>CLERK</td></tr><tr><td>SMITH</td><td>CLERK</td></tr><tr><td>ADAMS</td><td>CLERK</td></tr><tr><td>MILLER</td><td>CLERK</td></tr><tr><td>SCOTT</td><td>ANALYST</td></tr><tr><td>FORD</td><td>ANALYST</td></tr><tr><td>Jonathan</td><td>Editor</td></tr></tbody></table></div>"
      ]
     },
     "metadata": {
      "application/vnd.databricks.v1+output": {
       "addedWidgets": {},
       "aggData": [],
       "aggError": "",
       "aggOverflow": false,
       "aggSchema": [],
       "aggSeriesLimitReached": false,
       "aggType": "",
       "arguments": {},
       "columnCustomDisplayInfos": {},
       "data": [
        [
         "ALLEN",
         "SALESMAN"
        ],
        [
         "WARD",
         "SALESMAN"
        ],
        [
         "MARTIN",
         "SALESMAN"
        ],
        [
         "TURNER",
         "SALESMAN"
        ],
        [
         "YODA",
         "JEDI"
        ],
        [
         "BLAKE",
         "MANAGER"
        ],
        [
         "JONES",
         "MANAGER"
        ],
        [
         "CLARK",
         "MANAGER"
        ],
        [
         "KING",
         "PRESIDENT"
        ],
        [
         "JAMES",
         "CLERK"
        ],
        [
         "SMITH",
         "CLERK"
        ],
        [
         "ADAMS",
         "CLERK"
        ],
        [
         "MILLER",
         "CLERK"
        ],
        [
         "SCOTT",
         "ANALYST"
        ],
        [
         "FORD",
         "ANALYST"
        ],
        [
         "Jonathan",
         "Editor"
        ]
       ],
       "datasetInfos": [],
       "dbfsResultPath": null,
       "isJsonSchema": true,
       "metadata": {},
       "overflow": false,
       "plotOptions": {
        "customPlotOptions": {},
        "displayType": "table",
        "pivotAggregation": null,
        "pivotColumns": null,
        "xColumns": null,
        "yColumns": null
       },
       "removedWidgets": [],
       "schema": [
        {
         "metadata": "{}",
         "name": "ename",
         "type": "\"string\""
        },
        {
         "metadata": "{}",
         "name": "job",
         "type": "\"string\""
        }
       ],
       "type": "table"
      }
     },
     "output_type": "display_data"
    }
   ],
   "source": [
    "%sql\n",
    "select ename, job\n",
    "from emp\n",
    "order by substr(job, length(job)-1)"
   ]
  },
  {
   "cell_type": "code",
   "execution_count": 0,
   "metadata": {
    "application/vnd.databricks.v1+cell": {
     "cellMetadata": {
      "byteLimit": 2048000,
      "implicitDf": true,
      "rowLimit": 10000
     },
     "inputWidgets": {},
     "nuid": "de738b72-9086-4c88-9dda-fce9b2a15b59",
     "showTitle": false,
     "title": ""
    }
   },
   "outputs": [
    {
     "output_type": "display_data",
     "data": {
      "text/html": [
       "<style scoped>\n",
       "  .table-result-container {\n",
       "    max-height: 300px;\n",
       "    overflow: auto;\n",
       "  }\n",
       "  table, th, td {\n",
       "    border: 1px solid black;\n",
       "    border-collapse: collapse;\n",
       "  }\n",
       "  th, td {\n",
       "    padding: 5px;\n",
       "  }\n",
       "  th {\n",
       "    text-align: left;\n",
       "  }\n",
       "</style><div class='table-result-container'><table class='table-result'><thead style='background-color: white'><tr><th>ename</th><th>job</th></tr></thead><tbody><tr><td>ALLEN</td><td>SALESMAN</td></tr><tr><td>WARD</td><td>SALESMAN</td></tr><tr><td>MARTIN</td><td>SALESMAN</td></tr><tr><td>TURNER</td><td>SALESMAN</td></tr><tr><td>YODA</td><td>JEDI</td></tr><tr><td>BLAKE</td><td>MANAGER</td></tr><tr><td>JONES</td><td>MANAGER</td></tr><tr><td>CLARK</td><td>MANAGER</td></tr><tr><td>KING</td><td>PRESIDENT</td></tr><tr><td>JAMES</td><td>CLERK</td></tr><tr><td>SMITH</td><td>CLERK</td></tr><tr><td>ADAMS</td><td>CLERK</td></tr><tr><td>MILLER</td><td>CLERK</td></tr><tr><td>SCOTT</td><td>ANALYST</td></tr><tr><td>FORD</td><td>ANALYST</td></tr><tr><td>Jonathan</td><td>Editor</td></tr></tbody></table></div>"
      ]
     },
     "metadata": {
      "application/vnd.databricks.v1+output": {
       "addedWidgets": {},
       "aggData": [],
       "aggError": "",
       "aggOverflow": false,
       "aggSchema": [],
       "aggSeriesLimitReached": false,
       "aggType": "",
       "arguments": {},
       "columnCustomDisplayInfos": {},
       "data": [
        [
         "ALLEN",
         "SALESMAN"
        ],
        [
         "WARD",
         "SALESMAN"
        ],
        [
         "MARTIN",
         "SALESMAN"
        ],
        [
         "TURNER",
         "SALESMAN"
        ],
        [
         "YODA",
         "JEDI"
        ],
        [
         "BLAKE",
         "MANAGER"
        ],
        [
         "JONES",
         "MANAGER"
        ],
        [
         "CLARK",
         "MANAGER"
        ],
        [
         "KING",
         "PRESIDENT"
        ],
        [
         "JAMES",
         "CLERK"
        ],
        [
         "SMITH",
         "CLERK"
        ],
        [
         "ADAMS",
         "CLERK"
        ],
        [
         "MILLER",
         "CLERK"
        ],
        [
         "SCOTT",
         "ANALYST"
        ],
        [
         "FORD",
         "ANALYST"
        ],
        [
         "Jonathan",
         "Editor"
        ]
       ],
       "datasetInfos": [],
       "dbfsResultPath": null,
       "isJsonSchema": true,
       "metadata": {},
       "overflow": false,
       "plotOptions": {
        "customPlotOptions": {},
        "displayType": "table",
        "pivotAggregation": null,
        "pivotColumns": null,
        "xColumns": null,
        "yColumns": null
       },
       "removedWidgets": [],
       "schema": [
        {
         "metadata": "{}",
         "name": "ename",
         "type": "\"string\""
        },
        {
         "metadata": "{}",
         "name": "job",
         "type": "\"string\""
        }
       ],
       "type": "table"
      }
     },
     "output_type": "display_data"
    }
   ],
   "source": [
    "%sql\n",
    "select ename, job\n",
    "from emp\n",
    "order by substr(job, -2)"
   ]
  },
  {
   "cell_type": "markdown",
   "metadata": {
    "application/vnd.databricks.v1+cell": {
     "cellMetadata": {},
     "inputWidgets": {},
     "nuid": "ec51a745-cb4d-4a2a-b054-575ae5a80227",
     "showTitle": false,
     "title": ""
    }
   },
   "source": [
    "### B. `PySpark`\n",
    "- Use negative indexes to start from last"
   ]
  },
  {
   "cell_type": "code",
   "execution_count": 0,
   "metadata": {
    "application/vnd.databricks.v1+cell": {
     "cellMetadata": {
      "byteLimit": 2048000,
      "rowLimit": 10000
     },
     "inputWidgets": {},
     "nuid": "ad6f22fe-b291-4085-99c7-aceab3fbdb74",
     "showTitle": false,
     "title": ""
    }
   },
   "outputs": [
    {
     "output_type": "display_data",
     "data": {
      "text/html": [
       "<style scoped>\n",
       "  .table-result-container {\n",
       "    max-height: 300px;\n",
       "    overflow: auto;\n",
       "  }\n",
       "  table, th, td {\n",
       "    border: 1px solid black;\n",
       "    border-collapse: collapse;\n",
       "  }\n",
       "  th, td {\n",
       "    padding: 5px;\n",
       "  }\n",
       "  th {\n",
       "    text-align: left;\n",
       "  }\n",
       "</style><div class='table-result-container'><table class='table-result'><thead style='background-color: white'><tr><th>ename</th><th>job</th></tr></thead><tbody><tr><td>ALLEN</td><td>SALESMAN</td></tr><tr><td>WARD</td><td>SALESMAN</td></tr><tr><td>MARTIN</td><td>SALESMAN</td></tr><tr><td>TURNER</td><td>SALESMAN</td></tr><tr><td>YODA</td><td>JEDI</td></tr><tr><td>BLAKE</td><td>MANAGER</td></tr><tr><td>JONES</td><td>MANAGER</td></tr><tr><td>CLARK</td><td>MANAGER</td></tr><tr><td>KING</td><td>PRESIDENT</td></tr><tr><td>JAMES</td><td>CLERK</td></tr><tr><td>SMITH</td><td>CLERK</td></tr><tr><td>ADAMS</td><td>CLERK</td></tr><tr><td>MILLER</td><td>CLERK</td></tr><tr><td>SCOTT</td><td>ANALYST</td></tr><tr><td>FORD</td><td>ANALYST</td></tr><tr><td>Jonathan</td><td>Editor</td></tr></tbody></table></div>"
      ]
     },
     "metadata": {
      "application/vnd.databricks.v1+output": {
       "addedWidgets": {},
       "aggData": [],
       "aggError": "",
       "aggOverflow": false,
       "aggSchema": [],
       "aggSeriesLimitReached": false,
       "aggType": "",
       "arguments": {},
       "columnCustomDisplayInfos": {},
       "data": [
        [
         "ALLEN",
         "SALESMAN"
        ],
        [
         "WARD",
         "SALESMAN"
        ],
        [
         "MARTIN",
         "SALESMAN"
        ],
        [
         "TURNER",
         "SALESMAN"
        ],
        [
         "YODA",
         "JEDI"
        ],
        [
         "BLAKE",
         "MANAGER"
        ],
        [
         "JONES",
         "MANAGER"
        ],
        [
         "CLARK",
         "MANAGER"
        ],
        [
         "KING",
         "PRESIDENT"
        ],
        [
         "JAMES",
         "CLERK"
        ],
        [
         "SMITH",
         "CLERK"
        ],
        [
         "ADAMS",
         "CLERK"
        ],
        [
         "MILLER",
         "CLERK"
        ],
        [
         "SCOTT",
         "ANALYST"
        ],
        [
         "FORD",
         "ANALYST"
        ],
        [
         "Jonathan",
         "Editor"
        ]
       ],
       "datasetInfos": [],
       "dbfsResultPath": null,
       "isJsonSchema": true,
       "metadata": {},
       "overflow": false,
       "plotOptions": {
        "customPlotOptions": {},
        "displayType": "table",
        "pivotAggregation": null,
        "pivotColumns": null,
        "xColumns": null,
        "yColumns": null
       },
       "removedWidgets": [],
       "schema": [
        {
         "metadata": "{}",
         "name": "ename",
         "type": "\"string\""
        },
        {
         "metadata": "{}",
         "name": "job",
         "type": "\"string\""
        }
       ],
       "type": "table"
      }
     },
     "output_type": "display_data"
    }
   ],
   "source": [
    "from pyspark.sql.functions import col\n",
    "display(emp.select('ename', 'job').orderBy(col('job').substr(-2, 2)))"
   ]
  },
  {
   "cell_type": "markdown",
   "metadata": {
    "application/vnd.databricks.v1+cell": {
     "cellMetadata": {},
     "inputWidgets": {},
     "nuid": "6d108ddc-554b-46e1-b677-edf8197d0009",
     "showTitle": false,
     "title": ""
    }
   },
   "source": [
    "### C. `Pandas`"
   ]
  },
  {
   "cell_type": "code",
   "execution_count": 0,
   "metadata": {
    "application/vnd.databricks.v1+cell": {
     "cellMetadata": {
      "byteLimit": 2048000,
      "rowLimit": 10000
     },
     "inputWidgets": {},
     "nuid": "6940b0e5-56c6-49d1-a394-1f72330d56bb",
     "showTitle": false,
     "title": ""
    }
   },
   "outputs": [
    {
     "output_type": "display_data",
     "data": {
      "text/html": [
       "<style scoped>\n",
       "  .table-result-container {\n",
       "    max-height: 300px;\n",
       "    overflow: auto;\n",
       "  }\n",
       "  table, th, td {\n",
       "    border: 1px solid black;\n",
       "    border-collapse: collapse;\n",
       "  }\n",
       "  th, td {\n",
       "    padding: 5px;\n",
       "  }\n",
       "  th {\n",
       "    text-align: left;\n",
       "  }\n",
       "</style><div class='table-result-container'><table class='table-result'><thead style='background-color: white'><tr><th>ename</th><th>job</th></tr></thead><tbody><tr><td>ALLEN</td><td>SALESMAN</td></tr><tr><td>WARD</td><td>SALESMAN</td></tr><tr><td>MARTIN</td><td>SALESMAN</td></tr><tr><td>TURNER</td><td>SALESMAN</td></tr><tr><td>YODA</td><td>JEDI</td></tr><tr><td>BLAKE</td><td>MANAGER</td></tr><tr><td>JONES</td><td>MANAGER</td></tr><tr><td>CLARK</td><td>MANAGER</td></tr><tr><td>KING</td><td>PRESIDENT</td></tr><tr><td>JAMES</td><td>CLERK</td></tr><tr><td>SMITH</td><td>CLERK</td></tr><tr><td>ADAMS</td><td>CLERK</td></tr><tr><td>MILLER</td><td>CLERK</td></tr><tr><td>SCOTT</td><td>ANALYST</td></tr><tr><td>FORD</td><td>ANALYST</td></tr><tr><td>Jonathan</td><td>Editor</td></tr></tbody></table></div>"
      ]
     },
     "metadata": {
      "application/vnd.databricks.v1+output": {
       "addedWidgets": {},
       "aggData": [],
       "aggError": "",
       "aggOverflow": false,
       "aggSchema": [],
       "aggSeriesLimitReached": false,
       "aggType": "",
       "arguments": {},
       "columnCustomDisplayInfos": {},
       "data": [
        [
         "ALLEN",
         "SALESMAN"
        ],
        [
         "WARD",
         "SALESMAN"
        ],
        [
         "MARTIN",
         "SALESMAN"
        ],
        [
         "TURNER",
         "SALESMAN"
        ],
        [
         "YODA",
         "JEDI"
        ],
        [
         "BLAKE",
         "MANAGER"
        ],
        [
         "JONES",
         "MANAGER"
        ],
        [
         "CLARK",
         "MANAGER"
        ],
        [
         "KING",
         "PRESIDENT"
        ],
        [
         "JAMES",
         "CLERK"
        ],
        [
         "SMITH",
         "CLERK"
        ],
        [
         "ADAMS",
         "CLERK"
        ],
        [
         "MILLER",
         "CLERK"
        ],
        [
         "SCOTT",
         "ANALYST"
        ],
        [
         "FORD",
         "ANALYST"
        ],
        [
         "Jonathan",
         "Editor"
        ]
       ],
       "datasetInfos": [],
       "dbfsResultPath": null,
       "isJsonSchema": true,
       "metadata": {},
       "overflow": false,
       "plotOptions": {
        "customPlotOptions": {},
        "displayType": "table",
        "pivotAggregation": null,
        "pivotColumns": null,
        "xColumns": null,
        "yColumns": null
       },
       "removedWidgets": [],
       "schema": [
        {
         "metadata": "{}",
         "name": "ename",
         "type": "\"string\""
        },
        {
         "metadata": "{}",
         "name": "job",
         "type": "\"string\""
        }
       ],
       "type": "table"
      }
     },
     "output_type": "display_data"
    }
   ],
   "source": [
    "df_emp_pandas = emp.toPandas()\n",
    "\n",
    "df_emp_pandas['sort_job'] = df_emp_pandas['job'].astype('str').str[-2:]\n",
    "\n",
    "display(df_emp_pandas.sort_values(by='sort_job')[['ename', 'job']])"
   ]
  },
  {
   "cell_type": "markdown",
   "metadata": {
    "application/vnd.databricks.v1+cell": {
     "cellMetadata": {},
     "inputWidgets": {},
     "nuid": "2ebe77e9-d2f1-4c78-83c9-68f2073cdded",
     "showTitle": false,
     "title": ""
    }
   },
   "source": [
    "## 4. Sorting Mixed Alphanumeric Data"
   ]
  },
  {
   "cell_type": "markdown",
   "metadata": {
    "application/vnd.databricks.v1+cell": {
     "cellMetadata": {},
     "inputWidgets": {},
     "nuid": "19ab0704-fde5-4906-b750-53d1ce3bfbc2",
     "showTitle": false,
     "title": ""
    }
   },
   "source": [
    "### A. `SQL`"
   ]
  },
  {
   "cell_type": "markdown",
   "metadata": {
    "application/vnd.databricks.v1+cell": {
     "cellMetadata": {},
     "inputWidgets": {},
     "nuid": "19773704-910b-46b5-b4a1-ab8006fae226",
     "showTitle": false,
     "title": ""
    }
   },
   "source": [
    "#### Creating a View"
   ]
  },
  {
   "cell_type": "code",
   "execution_count": 0,
   "metadata": {
    "application/vnd.databricks.v1+cell": {
     "cellMetadata": {
      "byteLimit": 2048000,
      "implicitDf": true,
      "rowLimit": 10000
     },
     "inputWidgets": {},
     "nuid": "499cd003-2e9f-4944-aa61-74454295e80f",
     "showTitle": false,
     "title": ""
    }
   },
   "outputs": [
    {
     "output_type": "display_data",
     "data": {
      "text/html": [
       "<style scoped>\n",
       "  .table-result-container {\n",
       "    max-height: 300px;\n",
       "    overflow: auto;\n",
       "  }\n",
       "  table, th, td {\n",
       "    border: 1px solid black;\n",
       "    border-collapse: collapse;\n",
       "  }\n",
       "  th, td {\n",
       "    padding: 5px;\n",
       "  }\n",
       "  th {\n",
       "    text-align: left;\n",
       "  }\n",
       "</style><div class='table-result-container'><table class='table-result'><thead style='background-color: white'><tr><th>data</th></tr></thead><tbody><tr><td>ALLEN 30</td></tr><tr><td>WARD 30</td></tr><tr><td>MARTIN 30</td></tr><tr><td>BLAKE 30</td></tr><tr><td>TURNER 30</td></tr><tr><td>JAMES 30</td></tr><tr><td>null</td></tr><tr><td>null</td></tr><tr><td>SMITH 20</td></tr><tr><td>JONES 20</td></tr><tr><td>SCOTT 20</td></tr><tr><td>ADAMS 20</td></tr><tr><td>FORD 20</td></tr><tr><td>MILLER 10</td></tr><tr><td>KING 10</td></tr><tr><td>CLARK 10</td></tr></tbody></table></div>"
      ]
     },
     "metadata": {
      "application/vnd.databricks.v1+output": {
       "addedWidgets": {},
       "aggData": [],
       "aggError": "",
       "aggOverflow": false,
       "aggSchema": [],
       "aggSeriesLimitReached": false,
       "aggType": "",
       "arguments": {},
       "columnCustomDisplayInfos": {},
       "data": [
        [
         "ALLEN 30"
        ],
        [
         "WARD 30"
        ],
        [
         "MARTIN 30"
        ],
        [
         "BLAKE 30"
        ],
        [
         "TURNER 30"
        ],
        [
         "JAMES 30"
        ],
        [
         null
        ],
        [
         null
        ],
        [
         "SMITH 20"
        ],
        [
         "JONES 20"
        ],
        [
         "SCOTT 20"
        ],
        [
         "ADAMS 20"
        ],
        [
         "FORD 20"
        ],
        [
         "MILLER 10"
        ],
        [
         "KING 10"
        ],
        [
         "CLARK 10"
        ]
       ],
       "datasetInfos": [],
       "dbfsResultPath": null,
       "isJsonSchema": true,
       "metadata": {},
       "overflow": false,
       "plotOptions": {
        "customPlotOptions": {},
        "displayType": "table",
        "pivotAggregation": null,
        "pivotColumns": null,
        "xColumns": null,
        "yColumns": null
       },
       "removedWidgets": [],
       "schema": [
        {
         "metadata": "{}",
         "name": "data",
         "type": "\"string\""
        }
       ],
       "type": "table"
      }
     },
     "output_type": "display_data"
    }
   ],
   "source": [
    "%sql\n",
    "create temp view V\n",
    "as\n",
    "select ename||' '||deptno as data\n",
    "from emp;\n",
    "\n",
    "select * from V"
   ]
  },
  {
   "cell_type": "markdown",
   "metadata": {
    "application/vnd.databricks.v1+cell": {
     "cellMetadata": {},
     "inputWidgets": {},
     "nuid": "809a30ea-3f45-40a1-9cf2-cefb8e2c24f8",
     "showTitle": false,
     "title": ""
    }
   },
   "source": [
    "#### `TRANSLATE(string, from, to)` function\n",
    "1) **string**\n",
    "is a string subjected to translation.\n",
    "\n",
    "2) **from**\n",
    "is a set of characters in the first argument (string) that should be replaced.\n",
    "\n",
    "3) **to**\n",
    "is a set of characters that replaces the from in the string.\n",
    "\n",
    "Notice that if from is longer than to, the TRANSLATE() function removes the occurrences of the extra characters in from."
   ]
  },
  {
   "cell_type": "markdown",
   "metadata": {
    "application/vnd.databricks.v1+cell": {
     "cellMetadata": {},
     "inputWidgets": {},
     "nuid": "74b91364-c133-467c-a7ed-5e0d1994fecd",
     "showTitle": false,
     "title": ""
    }
   },
   "source": [
    "#### `REPLACE(source, old_text, new_text)` function\n",
    "1) **source** is a string where you want to replace.\n",
    "2) **old_text** is the text that you want to search and replace. If the old_text appears multiple times in the string, all of its occurrences will be replaced.\n",
    "3) **new_text** is the new text that will replace the old text (**old_text**)."
   ]
  },
  {
   "cell_type": "markdown",
   "metadata": {
    "application/vnd.databricks.v1+cell": {
     "cellMetadata": {},
     "inputWidgets": {},
     "nuid": "0c8b9fa0-c607-4af6-b104-981a0caf6c68",
     "showTitle": false,
     "title": ""
    }
   },
   "source": [
    "> `TRANSLATE` replaces characters while `REPLACE` replaces the whole text"
   ]
  },
  {
   "cell_type": "markdown",
   "metadata": {
    "application/vnd.databricks.v1+cell": {
     "cellMetadata": {},
     "inputWidgets": {},
     "nuid": "df8b3441-d127-425c-a0c2-1d3675b21e43",
     "showTitle": false,
     "title": ""
    }
   },
   "source": [
    "#### Order By Deptno"
   ]
  },
  {
   "cell_type": "code",
   "execution_count": 0,
   "metadata": {
    "application/vnd.databricks.v1+cell": {
     "cellMetadata": {
      "byteLimit": 2048000,
      "implicitDf": true,
      "rowLimit": 10000
     },
     "inputWidgets": {},
     "nuid": "94063f1c-363f-4e4a-88b1-05ec032ceebd",
     "showTitle": false,
     "title": ""
    }
   },
   "outputs": [
    {
     "output_type": "display_data",
     "data": {
      "text/html": [
       "<style scoped>\n",
       "  .table-result-container {\n",
       "    max-height: 300px;\n",
       "    overflow: auto;\n",
       "  }\n",
       "  table, th, td {\n",
       "    border: 1px solid black;\n",
       "    border-collapse: collapse;\n",
       "  }\n",
       "  th, td {\n",
       "    padding: 5px;\n",
       "  }\n",
       "  th {\n",
       "    text-align: left;\n",
       "  }\n",
       "</style><div class='table-result-container'><table class='table-result'><thead style='background-color: white'><tr><th>data</th></tr></thead><tbody><tr><td>null</td></tr><tr><td>null</td></tr><tr><td>MILLER 10</td></tr><tr><td>KING 10</td></tr><tr><td>CLARK 10</td></tr><tr><td>SMITH 20</td></tr><tr><td>JONES 20</td></tr><tr><td>SCOTT 20</td></tr><tr><td>ADAMS 20</td></tr><tr><td>FORD 20</td></tr><tr><td>ALLEN 30</td></tr><tr><td>WARD 30</td></tr><tr><td>MARTIN 30</td></tr><tr><td>BLAKE 30</td></tr><tr><td>TURNER 30</td></tr><tr><td>JAMES 30</td></tr></tbody></table></div>"
      ]
     },
     "metadata": {
      "application/vnd.databricks.v1+output": {
       "addedWidgets": {},
       "aggData": [],
       "aggError": "",
       "aggOverflow": false,
       "aggSchema": [],
       "aggSeriesLimitReached": false,
       "aggType": "",
       "arguments": {},
       "columnCustomDisplayInfos": {},
       "data": [
        [
         null
        ],
        [
         null
        ],
        [
         "MILLER 10"
        ],
        [
         "KING 10"
        ],
        [
         "CLARK 10"
        ],
        [
         "SMITH 20"
        ],
        [
         "JONES 20"
        ],
        [
         "SCOTT 20"
        ],
        [
         "ADAMS 20"
        ],
        [
         "FORD 20"
        ],
        [
         "ALLEN 30"
        ],
        [
         "WARD 30"
        ],
        [
         "MARTIN 30"
        ],
        [
         "BLAKE 30"
        ],
        [
         "TURNER 30"
        ],
        [
         "JAMES 30"
        ]
       ],
       "datasetInfos": [],
       "dbfsResultPath": null,
       "isJsonSchema": true,
       "metadata": {},
       "overflow": false,
       "plotOptions": {
        "customPlotOptions": {},
        "displayType": "table",
        "pivotAggregation": null,
        "pivotColumns": null,
        "xColumns": null,
        "yColumns": null
       },
       "removedWidgets": [],
       "schema": [
        {
         "metadata": "{}",
         "name": "data",
         "type": "\"string\""
        }
       ],
       "type": "table"
      }
     },
     "output_type": "display_data"
    }
   ],
   "source": [
    "%sql\n",
    "select data\n",
    "from V\n",
    "order by replace(data,replace(translate(data, '0123456789', '##########'),'#',''), '')"
   ]
  },
  {
   "cell_type": "code",
   "execution_count": 0,
   "metadata": {
    "application/vnd.databricks.v1+cell": {
     "cellMetadata": {
      "byteLimit": 2048000,
      "implicitDf": true,
      "rowLimit": 10000
     },
     "inputWidgets": {},
     "nuid": "5bb8b134-00d1-4e5d-9a45-b45e6daec53e",
     "showTitle": false,
     "title": ""
    }
   },
   "outputs": [
    {
     "output_type": "display_data",
     "data": {
      "text/html": [
       "<style scoped>\n",
       "  .table-result-container {\n",
       "    max-height: 300px;\n",
       "    overflow: auto;\n",
       "  }\n",
       "  table, th, td {\n",
       "    border: 1px solid black;\n",
       "    border-collapse: collapse;\n",
       "  }\n",
       "  th, td {\n",
       "    padding: 5px;\n",
       "  }\n",
       "  th {\n",
       "    text-align: left;\n",
       "  }\n",
       "</style><div class='table-result-container'><table class='table-result'><thead style='background-color: white'><tr><th>data</th></tr></thead><tbody><tr><td>null</td></tr><tr><td>null</td></tr><tr><td>ADAMS 20</td></tr><tr><td>ALLEN 30</td></tr><tr><td>BLAKE 30</td></tr><tr><td>CLARK 10</td></tr><tr><td>FORD 20</td></tr><tr><td>JAMES 30</td></tr><tr><td>JONES 20</td></tr><tr><td>KING 10</td></tr><tr><td>MARTIN 30</td></tr><tr><td>MILLER 10</td></tr><tr><td>SCOTT 20</td></tr><tr><td>SMITH 20</td></tr><tr><td>TURNER 30</td></tr><tr><td>WARD 30</td></tr></tbody></table></div>"
      ]
     },
     "metadata": {
      "application/vnd.databricks.v1+output": {
       "addedWidgets": {},
       "aggData": [],
       "aggError": "",
       "aggOverflow": false,
       "aggSchema": [],
       "aggSeriesLimitReached": false,
       "aggType": "",
       "arguments": {},
       "columnCustomDisplayInfos": {},
       "data": [
        [
         null
        ],
        [
         null
        ],
        [
         "ADAMS 20"
        ],
        [
         "ALLEN 30"
        ],
        [
         "BLAKE 30"
        ],
        [
         "CLARK 10"
        ],
        [
         "FORD 20"
        ],
        [
         "JAMES 30"
        ],
        [
         "JONES 20"
        ],
        [
         "KING 10"
        ],
        [
         "MARTIN 30"
        ],
        [
         "MILLER 10"
        ],
        [
         "SCOTT 20"
        ],
        [
         "SMITH 20"
        ],
        [
         "TURNER 30"
        ],
        [
         "WARD 30"
        ]
       ],
       "datasetInfos": [],
       "dbfsResultPath": null,
       "isJsonSchema": true,
       "metadata": {},
       "overflow": false,
       "plotOptions": {
        "customPlotOptions": {},
        "displayType": "table",
        "pivotAggregation": null,
        "pivotColumns": null,
        "xColumns": null,
        "yColumns": null
       },
       "removedWidgets": [],
       "schema": [
        {
         "metadata": "{}",
         "name": "data",
         "type": "\"string\""
        }
       ],
       "type": "table"
      }
     },
     "output_type": "display_data"
    }
   ],
   "source": [
    "%sql\n",
    "select data\n",
    "from V\n",
    "order by replace(translate(data, '0123456789', '##########'),'#','')"
   ]
  },
  {
   "cell_type": "markdown",
   "metadata": {
    "application/vnd.databricks.v1+cell": {
     "cellMetadata": {},
     "inputWidgets": {},
     "nuid": "78265e08-8ece-41b2-b184-f951f86b85db",
     "showTitle": false,
     "title": ""
    }
   },
   "source": [
    "### B. `PySpark`"
   ]
  },
  {
   "cell_type": "code",
   "execution_count": 0,
   "metadata": {
    "application/vnd.databricks.v1+cell": {
     "cellMetadata": {
      "byteLimit": 2048000,
      "rowLimit": 10000
     },
     "inputWidgets": {},
     "nuid": "95c8b0df-56d9-4c9f-a02a-3b9e88a9c34e",
     "showTitle": false,
     "title": ""
    }
   },
   "outputs": [
    {
     "output_type": "display_data",
     "data": {
      "text/html": [
       "<style scoped>\n",
       "  .table-result-container {\n",
       "    max-height: 300px;\n",
       "    overflow: auto;\n",
       "  }\n",
       "  table, th, td {\n",
       "    border: 1px solid black;\n",
       "    border-collapse: collapse;\n",
       "  }\n",
       "  th, td {\n",
       "    padding: 5px;\n",
       "  }\n",
       "  th {\n",
       "    text-align: left;\n",
       "  }\n",
       "</style><div class='table-result-container'><table class='table-result'><thead style='background-color: white'><tr><th>data</th></tr></thead><tbody><tr><td>null</td></tr><tr><td>null</td></tr><tr><td>MILLER 10</td></tr><tr><td>KING 10</td></tr><tr><td>CLARK 10</td></tr><tr><td>SMITH 20</td></tr><tr><td>JONES 20</td></tr><tr><td>SCOTT 20</td></tr><tr><td>ADAMS 20</td></tr><tr><td>FORD 20</td></tr><tr><td>ALLEN 30</td></tr><tr><td>WARD 30</td></tr><tr><td>MARTIN 30</td></tr><tr><td>BLAKE 30</td></tr><tr><td>TURNER 30</td></tr><tr><td>JAMES 30</td></tr></tbody></table></div>"
      ]
     },
     "metadata": {
      "application/vnd.databricks.v1+output": {
       "addedWidgets": {},
       "aggData": [],
       "aggError": "",
       "aggOverflow": false,
       "aggSchema": [],
       "aggSeriesLimitReached": false,
       "aggType": "",
       "arguments": {},
       "columnCustomDisplayInfos": {},
       "data": [
        [
         null
        ],
        [
         null
        ],
        [
         "MILLER 10"
        ],
        [
         "KING 10"
        ],
        [
         "CLARK 10"
        ],
        [
         "SMITH 20"
        ],
        [
         "JONES 20"
        ],
        [
         "SCOTT 20"
        ],
        [
         "ADAMS 20"
        ],
        [
         "FORD 20"
        ],
        [
         "ALLEN 30"
        ],
        [
         "WARD 30"
        ],
        [
         "MARTIN 30"
        ],
        [
         "BLAKE 30"
        ],
        [
         "TURNER 30"
        ],
        [
         "JAMES 30"
        ]
       ],
       "datasetInfos": [],
       "dbfsResultPath": null,
       "isJsonSchema": true,
       "metadata": {},
       "overflow": false,
       "plotOptions": {
        "customPlotOptions": {},
        "displayType": "table",
        "pivotAggregation": null,
        "pivotColumns": null,
        "xColumns": null,
        "yColumns": null
       },
       "removedWidgets": [],
       "schema": [
        {
         "metadata": "{}",
         "name": "data",
         "type": "\"string\""
        }
       ],
       "type": "table"
      }
     },
     "output_type": "display_data"
    }
   ],
   "source": [
    "import pyspark.sql.functions as F\n",
    "df_v = emp.withColumn('data', F.concat(emp.ename, F.lit(' '), emp.deptno)).select(F.col('data'))\n",
    "df_v = df_v.withColumn('transformed_data_1', F.translate('data', '0123456789', '##########'))\n",
    "df_v = df_v.withColumn('transformed_data_2', F.regexp_replace('transformed_data_1','#',''))\n",
    "df_v = df_v.withColumn('transformed_data_3', F.expr(\"regexp_replace(data, transformed_data_2, '')\"))\n",
    "display(df_v.orderBy('transformed_data_3').select('data'))"
   ]
  },
  {
   "cell_type": "markdown",
   "metadata": {
    "application/vnd.databricks.v1+cell": {
     "cellMetadata": {},
     "inputWidgets": {},
     "nuid": "449bef73-b563-4b0d-b029-fdaaa7154c53",
     "showTitle": false,
     "title": ""
    }
   },
   "source": [
    "### C. `Pandas`"
   ]
  },
  {
   "cell_type": "code",
   "execution_count": 0,
   "metadata": {
    "application/vnd.databricks.v1+cell": {
     "cellMetadata": {
      "byteLimit": 2048000,
      "rowLimit": 10000
     },
     "inputWidgets": {},
     "nuid": "613a0649-7545-4bba-bf57-037398e144c2",
     "showTitle": false,
     "title": ""
    }
   },
   "outputs": [
    {
     "output_type": "display_data",
     "data": {
      "text/html": [
       "<style scoped>\n",
       "  .table-result-container {\n",
       "    max-height: 300px;\n",
       "    overflow: auto;\n",
       "  }\n",
       "  table, th, td {\n",
       "    border: 1px solid black;\n",
       "    border-collapse: collapse;\n",
       "  }\n",
       "  th, td {\n",
       "    padding: 5px;\n",
       "  }\n",
       "  th {\n",
       "    text-align: left;\n",
       "  }\n",
       "</style><div class='table-result-container'><table class='table-result'><thead style='background-color: white'><tr><th>data</th></tr></thead><tbody><tr><td>YODA None</td></tr><tr><td>Jonathan None</td></tr><tr><td>MILLER 10</td></tr><tr><td>KING 10</td></tr><tr><td>CLARK 10</td></tr><tr><td>SMITH 20</td></tr><tr><td>JONES 20</td></tr><tr><td>SCOTT 20</td></tr><tr><td>ADAMS 20</td></tr><tr><td>FORD 20</td></tr><tr><td>ALLEN 30</td></tr><tr><td>WARD 30</td></tr><tr><td>MARTIN 30</td></tr><tr><td>BLAKE 30</td></tr><tr><td>TURNER 30</td></tr><tr><td>JAMES 30</td></tr></tbody></table></div>"
      ]
     },
     "metadata": {
      "application/vnd.databricks.v1+output": {
       "addedWidgets": {},
       "aggData": [],
       "aggError": "",
       "aggOverflow": false,
       "aggSchema": [],
       "aggSeriesLimitReached": false,
       "aggType": "",
       "arguments": {},
       "columnCustomDisplayInfos": {},
       "data": [
        [
         "YODA None"
        ],
        [
         "Jonathan None"
        ],
        [
         "MILLER 10"
        ],
        [
         "KING 10"
        ],
        [
         "CLARK 10"
        ],
        [
         "SMITH 20"
        ],
        [
         "JONES 20"
        ],
        [
         "SCOTT 20"
        ],
        [
         "ADAMS 20"
        ],
        [
         "FORD 20"
        ],
        [
         "ALLEN 30"
        ],
        [
         "WARD 30"
        ],
        [
         "MARTIN 30"
        ],
        [
         "BLAKE 30"
        ],
        [
         "TURNER 30"
        ],
        [
         "JAMES 30"
        ]
       ],
       "datasetInfos": [],
       "dbfsResultPath": null,
       "isJsonSchema": true,
       "metadata": {},
       "overflow": false,
       "plotOptions": {
        "customPlotOptions": {},
        "displayType": "table",
        "pivotAggregation": null,
        "pivotColumns": null,
        "xColumns": null,
        "yColumns": null
       },
       "removedWidgets": [],
       "schema": [
        {
         "metadata": "{}",
         "name": "data",
         "type": "\"string\""
        }
       ],
       "type": "table"
      }
     },
     "output_type": "display_data"
    }
   ],
   "source": [
    "df_emp_pandas = emp.toPandas()\n",
    "\n",
    "df_emp_pandas['ename'] = df_emp_pandas['ename'].astype('str')\n",
    "df_emp_pandas['deptno'] = df_emp_pandas['deptno'].astype('str')\n",
    "\n",
    "df_emp_pandas['data'] = df_emp_pandas['ename'] + ' ' + df_emp_pandas['deptno']\n",
    "\n",
    "df_emp_pandas['transformed_data_1'] = df_emp_pandas['data'].str.replace(str(0), '#')\n",
    "for i in range(1, 10):\n",
    "    df_emp_pandas['transformed_data_1'] = df_emp_pandas['transformed_data_1'].str.replace(str(i), '#')\n",
    "\n",
    "\n",
    "df_emp_pandas['transformed_data_2'] = df_emp_pandas['transformed_data_1'].str.replace('#', '')\n",
    "df_emp_pandas['transformed_data_3'] = df_emp_pandas[['data', 'transformed_data_2']].apply(lambda x: x[0].replace(x[1], ''), axis=1)\n",
    "\n",
    "display(df_emp_pandas.sort_values(by='transformed_data_3')[['data']])"
   ]
  },
  {
   "cell_type": "code",
   "execution_count": 0,
   "metadata": {
    "application/vnd.databricks.v1+cell": {
     "cellMetadata": {
      "byteLimit": 2048000,
      "rowLimit": 10000
     },
     "inputWidgets": {},
     "nuid": "ff386e5c-9288-4cf1-9301-14788f854a46",
     "showTitle": false,
     "title": ""
    }
   },
   "outputs": [
    {
     "output_type": "display_data",
     "data": {
      "text/html": [
       "<style scoped>\n",
       "  .table-result-container {\n",
       "    max-height: 300px;\n",
       "    overflow: auto;\n",
       "  }\n",
       "  table, th, td {\n",
       "    border: 1px solid black;\n",
       "    border-collapse: collapse;\n",
       "  }\n",
       "  th, td {\n",
       "    padding: 5px;\n",
       "  }\n",
       "  th {\n",
       "    text-align: left;\n",
       "  }\n",
       "</style><div class='table-result-container'><table class='table-result'><thead style='background-color: white'><tr><th>empno</th><th>ename</th><th>job</th><th>mgr</th><th>hiredate</th><th>sal</th><th>comm</th><th>deptno</th><th>data</th><th>transformed_data_1</th><th>transformed_data_2</th><th>transformed_data_3</th></tr></thead><tbody><tr><td>7499</td><td>ALLEN</td><td>SALESMAN</td><td>7698</td><td>1981-02-20</td><td>1600</td><td>300</td><td>30</td><td>ALLEN 30</td><td>ALLEN ##</td><td>ALLEN </td><td>30</td></tr><tr><td>7521</td><td>WARD</td><td>SALESMAN</td><td>7698</td><td>1981-02-22</td><td>1250</td><td>500</td><td>30</td><td>WARD 30</td><td>WARD ##</td><td>WARD </td><td>30</td></tr><tr><td>7654</td><td>MARTIN</td><td>SALESMAN</td><td>7698</td><td>1981-09-28</td><td>1250</td><td>1400</td><td>30</td><td>MARTIN 30</td><td>MARTIN ##</td><td>MARTIN </td><td>30</td></tr><tr><td>7698</td><td>BLAKE</td><td>MANAGER</td><td>7839</td><td>1981-05-01</td><td>2850</td><td>null</td><td>30</td><td>BLAKE 30</td><td>BLAKE ##</td><td>BLAKE </td><td>30</td></tr><tr><td>7844</td><td>TURNER</td><td>SALESMAN</td><td>7698</td><td>1981-09-08</td><td>1500</td><td>0</td><td>30</td><td>TURNER 30</td><td>TURNER ##</td><td>TURNER </td><td>30</td></tr><tr><td>7900</td><td>JAMES</td><td>CLERK</td><td>7698</td><td>1981-12-03</td><td>950</td><td>null</td><td>30</td><td>JAMES 30</td><td>JAMES ##</td><td>JAMES </td><td>30</td></tr><tr><td>1111</td><td>YODA</td><td>JEDI</td><td>null</td><td>1981-11-17</td><td>5000</td><td>null</td><td>None</td><td>YODA None</td><td>YODA None</td><td>YODA None</td><td></td></tr><tr><td>1</td><td>Jonathan</td><td>Editor</td><td>null</td><td>null</td><td>null</td><td>null</td><td>None</td><td>Jonathan None</td><td>Jonathan None</td><td>Jonathan None</td><td></td></tr><tr><td>7369</td><td>SMITH</td><td>CLERK</td><td>7902</td><td>1980-12-17</td><td>880</td><td>null</td><td>20</td><td>SMITH 20</td><td>SMITH ##</td><td>SMITH </td><td>20</td></tr><tr><td>7566</td><td>JONES</td><td>MANAGER</td><td>7839</td><td>1981-04-02</td><td>3273</td><td>null</td><td>20</td><td>JONES 20</td><td>JONES ##</td><td>JONES </td><td>20</td></tr><tr><td>7788</td><td>SCOTT</td><td>ANALYST</td><td>7566</td><td>1982-12-09</td><td>3300</td><td>null</td><td>20</td><td>SCOTT 20</td><td>SCOTT ##</td><td>SCOTT </td><td>20</td></tr><tr><td>7876</td><td>ADAMS</td><td>CLERK</td><td>7788</td><td>1983-01-12</td><td>1210</td><td>null</td><td>20</td><td>ADAMS 20</td><td>ADAMS ##</td><td>ADAMS </td><td>20</td></tr><tr><td>7902</td><td>FORD</td><td>ANALYST</td><td>7566</td><td>1981-12-03</td><td>3300</td><td>null</td><td>20</td><td>FORD 20</td><td>FORD ##</td><td>FORD </td><td>20</td></tr><tr><td>7934</td><td>MILLER</td><td>CLERK</td><td>7782</td><td>1982-01-23</td><td>4000</td><td>2000</td><td>10</td><td>MILLER 10</td><td>MILLER ##</td><td>MILLER </td><td>10</td></tr><tr><td>7839</td><td>KING</td><td>PRESIDENT</td><td>null</td><td>1981-11-17</td><td>4000</td><td>2000</td><td>10</td><td>KING 10</td><td>KING ##</td><td>KING </td><td>10</td></tr><tr><td>7782</td><td>CLARK</td><td>MANAGER</td><td>7839</td><td>1981-06-09</td><td>4000</td><td>2000</td><td>10</td><td>CLARK 10</td><td>CLARK ##</td><td>CLARK </td><td>10</td></tr></tbody></table></div>"
      ]
     },
     "metadata": {
      "application/vnd.databricks.v1+output": {
       "addedWidgets": {},
       "aggData": [],
       "aggError": "",
       "aggOverflow": false,
       "aggSchema": [],
       "aggSeriesLimitReached": false,
       "aggType": "",
       "arguments": {},
       "columnCustomDisplayInfos": {},
       "data": [
        [
         7499,
         "ALLEN",
         "SALESMAN",
         "7698",
         "1981-02-20",
         "1600",
         "300",
         "30",
         "ALLEN 30",
         "ALLEN ##",
         "ALLEN ",
         "30"
        ],
        [
         7521,
         "WARD",
         "SALESMAN",
         "7698",
         "1981-02-22",
         "1250",
         "500",
         "30",
         "WARD 30",
         "WARD ##",
         "WARD ",
         "30"
        ],
        [
         7654,
         "MARTIN",
         "SALESMAN",
         "7698",
         "1981-09-28",
         "1250",
         "1400",
         "30",
         "MARTIN 30",
         "MARTIN ##",
         "MARTIN ",
         "30"
        ],
        [
         7698,
         "BLAKE",
         "MANAGER",
         "7839",
         "1981-05-01",
         "2850",
         null,
         "30",
         "BLAKE 30",
         "BLAKE ##",
         "BLAKE ",
         "30"
        ],
        [
         7844,
         "TURNER",
         "SALESMAN",
         "7698",
         "1981-09-08",
         "1500",
         "0",
         "30",
         "TURNER 30",
         "TURNER ##",
         "TURNER ",
         "30"
        ],
        [
         7900,
         "JAMES",
         "CLERK",
         "7698",
         "1981-12-03",
         "950",
         null,
         "30",
         "JAMES 30",
         "JAMES ##",
         "JAMES ",
         "30"
        ],
        [
         1111,
         "YODA",
         "JEDI",
         null,
         "1981-11-17",
         "5000",
         null,
         "None",
         "YODA None",
         "YODA None",
         "YODA None",
         ""
        ],
        [
         1,
         "Jonathan",
         "Editor",
         null,
         null,
         null,
         null,
         "None",
         "Jonathan None",
         "Jonathan None",
         "Jonathan None",
         ""
        ],
        [
         7369,
         "SMITH",
         "CLERK",
         "7902",
         "1980-12-17",
         "880",
         null,
         "20",
         "SMITH 20",
         "SMITH ##",
         "SMITH ",
         "20"
        ],
        [
         7566,
         "JONES",
         "MANAGER",
         "7839",
         "1981-04-02",
         "3273",
         null,
         "20",
         "JONES 20",
         "JONES ##",
         "JONES ",
         "20"
        ],
        [
         7788,
         "SCOTT",
         "ANALYST",
         "7566",
         "1982-12-09",
         "3300",
         null,
         "20",
         "SCOTT 20",
         "SCOTT ##",
         "SCOTT ",
         "20"
        ],
        [
         7876,
         "ADAMS",
         "CLERK",
         "7788",
         "1983-01-12",
         "1210",
         null,
         "20",
         "ADAMS 20",
         "ADAMS ##",
         "ADAMS ",
         "20"
        ],
        [
         7902,
         "FORD",
         "ANALYST",
         "7566",
         "1981-12-03",
         "3300",
         null,
         "20",
         "FORD 20",
         "FORD ##",
         "FORD ",
         "20"
        ],
        [
         7934,
         "MILLER",
         "CLERK",
         "7782",
         "1982-01-23",
         "4000",
         "2000",
         "10",
         "MILLER 10",
         "MILLER ##",
         "MILLER ",
         "10"
        ],
        [
         7839,
         "KING",
         "PRESIDENT",
         null,
         "1981-11-17",
         "4000",
         "2000",
         "10",
         "KING 10",
         "KING ##",
         "KING ",
         "10"
        ],
        [
         7782,
         "CLARK",
         "MANAGER",
         "7839",
         "1981-06-09",
         "4000",
         "2000",
         "10",
         "CLARK 10",
         "CLARK ##",
         "CLARK ",
         "10"
        ]
       ],
       "datasetInfos": [],
       "dbfsResultPath": null,
       "isJsonSchema": true,
       "metadata": {},
       "overflow": false,
       "plotOptions": {
        "customPlotOptions": {},
        "displayType": "table",
        "pivotAggregation": null,
        "pivotColumns": null,
        "xColumns": null,
        "yColumns": null
       },
       "removedWidgets": [],
       "schema": [
        {
         "metadata": "{}",
         "name": "empno",
         "type": "\"integer\""
        },
        {
         "metadata": "{}",
         "name": "ename",
         "type": "\"string\""
        },
        {
         "metadata": "{}",
         "name": "job",
         "type": "\"string\""
        },
        {
         "metadata": "{}",
         "name": "mgr",
         "type": "\"string\""
        },
        {
         "metadata": "{}",
         "name": "hiredate",
         "type": "\"string\""
        },
        {
         "metadata": "{}",
         "name": "sal",
         "type": "\"string\""
        },
        {
         "metadata": "{}",
         "name": "comm",
         "type": "\"string\""
        },
        {
         "metadata": "{}",
         "name": "deptno",
         "type": "\"string\""
        },
        {
         "metadata": "{}",
         "name": "data",
         "type": "\"string\""
        },
        {
         "metadata": "{}",
         "name": "transformed_data_1",
         "type": "\"string\""
        },
        {
         "metadata": "{}",
         "name": "transformed_data_2",
         "type": "\"string\""
        },
        {
         "metadata": "{}",
         "name": "transformed_data_3",
         "type": "\"string\""
        }
       ],
       "type": "table"
      }
     },
     "output_type": "display_data"
    }
   ],
   "source": [
    "display(df_emp_pandas)"
   ]
  },
  {
   "cell_type": "markdown",
   "metadata": {
    "application/vnd.databricks.v1+cell": {
     "cellMetadata": {},
     "inputWidgets": {},
     "nuid": "7005fb65-a288-422c-9ef8-5f868afe5801",
     "showTitle": false,
     "title": ""
    }
   },
   "source": [
    "## 5. Dealing with Nulls in Sorting\n",
    "- There is a little trick to use when not trying to get below results"
   ]
  },
  {
   "cell_type": "markdown",
   "metadata": {
    "application/vnd.databricks.v1+cell": {
     "cellMetadata": {},
     "inputWidgets": {},
     "nuid": "9e973322-4def-4fe5-a5c3-bfbc4de5c20a",
     "showTitle": false,
     "title": ""
    }
   },
   "source": [
    "### 1. NON-NULL COMM SORTED ASCENDING, ALL NULLS LAST"
   ]
  },
  {
   "cell_type": "markdown",
   "metadata": {
    "application/vnd.databricks.v1+cell": {
     "cellMetadata": {},
     "inputWidgets": {},
     "nuid": "9eb12d60-2a00-4ed8-b836-111e365073a2",
     "showTitle": false,
     "title": ""
    }
   },
   "source": [
    "#### A. `SQL`"
   ]
  },
  {
   "cell_type": "code",
   "execution_count": 0,
   "metadata": {
    "application/vnd.databricks.v1+cell": {
     "cellMetadata": {
      "byteLimit": 2048000,
      "implicitDf": true,
      "rowLimit": 10000
     },
     "inputWidgets": {},
     "nuid": "8c0a8cd7-7e4b-4f11-b4cf-0815203a733f",
     "showTitle": false,
     "title": ""
    }
   },
   "outputs": [
    {
     "output_type": "display_data",
     "data": {
      "text/html": [
       "<style scoped>\n",
       "  .table-result-container {\n",
       "    max-height: 300px;\n",
       "    overflow: auto;\n",
       "  }\n",
       "  table, th, td {\n",
       "    border: 1px solid black;\n",
       "    border-collapse: collapse;\n",
       "  }\n",
       "  th, td {\n",
       "    padding: 5px;\n",
       "  }\n",
       "  th {\n",
       "    text-align: left;\n",
       "  }\n",
       "</style><div class='table-result-container'><table class='table-result'><thead style='background-color: white'><tr><th>ename</th><th>sal</th><th>comm</th></tr></thead><tbody><tr><td>TURNER</td><td>1500</td><td>0</td></tr><tr><td>ALLEN</td><td>1600</td><td>300</td></tr><tr><td>WARD</td><td>1250</td><td>500</td></tr><tr><td>MARTIN</td><td>1250</td><td>1400</td></tr><tr><td>MILLER</td><td>4000</td><td>2000</td></tr><tr><td>KING</td><td>4000</td><td>2000</td></tr><tr><td>CLARK</td><td>4000</td><td>2000</td></tr><tr><td>BLAKE</td><td>2850</td><td>null</td></tr><tr><td>JAMES</td><td>950</td><td>null</td></tr><tr><td>YODA</td><td>5000</td><td>null</td></tr><tr><td>Jonathan</td><td>null</td><td>null</td></tr><tr><td>SMITH</td><td>880</td><td>null</td></tr><tr><td>JONES</td><td>3273</td><td>null</td></tr><tr><td>SCOTT</td><td>3300</td><td>null</td></tr><tr><td>ADAMS</td><td>1210</td><td>null</td></tr><tr><td>FORD</td><td>3300</td><td>null</td></tr></tbody></table></div>"
      ]
     },
     "metadata": {
      "application/vnd.databricks.v1+output": {
       "addedWidgets": {},
       "aggData": [],
       "aggError": "",
       "aggOverflow": false,
       "aggSchema": [],
       "aggSeriesLimitReached": false,
       "aggType": "",
       "arguments": {},
       "columnCustomDisplayInfos": {},
       "data": [
        [
         "TURNER",
         "1500",
         "0"
        ],
        [
         "ALLEN",
         "1600",
         "300"
        ],
        [
         "WARD",
         "1250",
         "500"
        ],
        [
         "MARTIN",
         "1250",
         "1400"
        ],
        [
         "MILLER",
         "4000",
         "2000"
        ],
        [
         "KING",
         "4000",
         "2000"
        ],
        [
         "CLARK",
         "4000",
         "2000"
        ],
        [
         "BLAKE",
         "2850",
         null
        ],
        [
         "JAMES",
         "950",
         null
        ],
        [
         "YODA",
         "5000",
         null
        ],
        [
         "Jonathan",
         null,
         null
        ],
        [
         "SMITH",
         "880",
         null
        ],
        [
         "JONES",
         "3273",
         null
        ],
        [
         "SCOTT",
         "3300",
         null
        ],
        [
         "ADAMS",
         "1210",
         null
        ],
        [
         "FORD",
         "3300",
         null
        ]
       ],
       "datasetInfos": [],
       "dbfsResultPath": null,
       "isJsonSchema": true,
       "metadata": {},
       "overflow": false,
       "plotOptions": {
        "customPlotOptions": {},
        "displayType": "table",
        "pivotAggregation": null,
        "pivotColumns": null,
        "xColumns": null,
        "yColumns": null
       },
       "removedWidgets": [],
       "schema": [
        {
         "metadata": "{}",
         "name": "ename",
         "type": "\"string\""
        },
        {
         "metadata": "{}",
         "name": "sal",
         "type": "\"string\""
        },
        {
         "metadata": "{}",
         "name": "comm",
         "type": "\"string\""
        }
       ],
       "type": "table"
      }
     },
     "output_type": "display_data"
    }
   ],
   "source": [
    "%sql\n",
    "select ename, sal, comm\n",
    "from (\n",
    "    select ename, sal, comm, case when comm is null then 0 else 1 end as is_null\n",
    "    from emp\n",
    "    ) a\n",
    "order by is_null desc, cast(comm as int)"
   ]
  },
  {
   "cell_type": "code",
   "execution_count": 0,
   "metadata": {
    "application/vnd.databricks.v1+cell": {
     "cellMetadata": {
      "byteLimit": 2048000,
      "implicitDf": true,
      "rowLimit": 10000
     },
     "inputWidgets": {},
     "nuid": "9d72eeff-46db-44d6-aae8-173cdc3cbce7",
     "showTitle": false,
     "title": ""
    }
   },
   "outputs": [
    {
     "output_type": "display_data",
     "data": {
      "text/html": [
       "<style scoped>\n",
       "  .table-result-container {\n",
       "    max-height: 300px;\n",
       "    overflow: auto;\n",
       "  }\n",
       "  table, th, td {\n",
       "    border: 1px solid black;\n",
       "    border-collapse: collapse;\n",
       "  }\n",
       "  th, td {\n",
       "    padding: 5px;\n",
       "  }\n",
       "  th {\n",
       "    text-align: left;\n",
       "  }\n",
       "</style><div class='table-result-container'><table class='table-result'><thead style='background-color: white'><tr><th>ename</th><th>sal</th><th>comm</th></tr></thead><tbody><tr><td>TURNER</td><td>1500</td><td>0</td></tr><tr><td>ALLEN</td><td>1600</td><td>300</td></tr><tr><td>WARD</td><td>1250</td><td>500</td></tr><tr><td>MARTIN</td><td>1250</td><td>1400</td></tr><tr><td>MILLER</td><td>4000</td><td>2000</td></tr><tr><td>KING</td><td>4000</td><td>2000</td></tr><tr><td>CLARK</td><td>4000</td><td>2000</td></tr><tr><td>BLAKE</td><td>2850</td><td>null</td></tr><tr><td>JAMES</td><td>950</td><td>null</td></tr><tr><td>YODA</td><td>5000</td><td>null</td></tr><tr><td>Jonathan</td><td>null</td><td>null</td></tr><tr><td>SMITH</td><td>880</td><td>null</td></tr><tr><td>JONES</td><td>3273</td><td>null</td></tr><tr><td>SCOTT</td><td>3300</td><td>null</td></tr><tr><td>ADAMS</td><td>1210</td><td>null</td></tr><tr><td>FORD</td><td>3300</td><td>null</td></tr></tbody></table></div>"
      ]
     },
     "metadata": {
      "application/vnd.databricks.v1+output": {
       "addedWidgets": {},
       "aggData": [],
       "aggError": "",
       "aggOverflow": false,
       "aggSchema": [],
       "aggSeriesLimitReached": false,
       "aggType": "",
       "arguments": {},
       "columnCustomDisplayInfos": {},
       "data": [
        [
         "TURNER",
         "1500",
         "0"
        ],
        [
         "ALLEN",
         "1600",
         "300"
        ],
        [
         "WARD",
         "1250",
         "500"
        ],
        [
         "MARTIN",
         "1250",
         "1400"
        ],
        [
         "MILLER",
         "4000",
         "2000"
        ],
        [
         "KING",
         "4000",
         "2000"
        ],
        [
         "CLARK",
         "4000",
         "2000"
        ],
        [
         "BLAKE",
         "2850",
         null
        ],
        [
         "JAMES",
         "950",
         null
        ],
        [
         "YODA",
         "5000",
         null
        ],
        [
         "Jonathan",
         null,
         null
        ],
        [
         "SMITH",
         "880",
         null
        ],
        [
         "JONES",
         "3273",
         null
        ],
        [
         "SCOTT",
         "3300",
         null
        ],
        [
         "ADAMS",
         "1210",
         null
        ],
        [
         "FORD",
         "3300",
         null
        ]
       ],
       "datasetInfos": [],
       "dbfsResultPath": null,
       "isJsonSchema": true,
       "metadata": {},
       "overflow": false,
       "plotOptions": {
        "customPlotOptions": {},
        "displayType": "table",
        "pivotAggregation": null,
        "pivotColumns": null,
        "xColumns": null,
        "yColumns": null
       },
       "removedWidgets": [],
       "schema": [
        {
         "metadata": "{}",
         "name": "ename",
         "type": "\"string\""
        },
        {
         "metadata": "{}",
         "name": "sal",
         "type": "\"string\""
        },
        {
         "metadata": "{}",
         "name": "comm",
         "type": "\"string\""
        }
       ],
       "type": "table"
      }
     },
     "output_type": "display_data"
    }
   ],
   "source": [
    "%sql\n",
    "select ename, sal, comm\n",
    "from emp\n",
    "order by cast(comm as int) nulls last"
   ]
  },
  {
   "cell_type": "markdown",
   "metadata": {
    "application/vnd.databricks.v1+cell": {
     "cellMetadata": {},
     "inputWidgets": {},
     "nuid": "b87eb381-7d32-48e6-b296-1fd51c4fee1d",
     "showTitle": false,
     "title": ""
    }
   },
   "source": [
    "#### B. `PySpark`"
   ]
  },
  {
   "cell_type": "code",
   "execution_count": 0,
   "metadata": {
    "application/vnd.databricks.v1+cell": {
     "cellMetadata": {
      "byteLimit": 2048000,
      "rowLimit": 10000
     },
     "inputWidgets": {},
     "nuid": "618c5dbd-84fe-4cbe-bf87-e1387044cd4d",
     "showTitle": false,
     "title": ""
    }
   },
   "outputs": [
    {
     "output_type": "display_data",
     "data": {
      "text/html": [
       "<style scoped>\n",
       "  .table-result-container {\n",
       "    max-height: 300px;\n",
       "    overflow: auto;\n",
       "  }\n",
       "  table, th, td {\n",
       "    border: 1px solid black;\n",
       "    border-collapse: collapse;\n",
       "  }\n",
       "  th, td {\n",
       "    padding: 5px;\n",
       "  }\n",
       "  th {\n",
       "    text-align: left;\n",
       "  }\n",
       "</style><div class='table-result-container'><table class='table-result'><thead style='background-color: white'><tr><th>ename</th><th>sal</th><th>comm</th></tr></thead><tbody><tr><td>TURNER</td><td>1500</td><td>0</td></tr><tr><td>ALLEN</td><td>1600</td><td>300</td></tr><tr><td>WARD</td><td>1250</td><td>500</td></tr><tr><td>MARTIN</td><td>1250</td><td>1400</td></tr><tr><td>MILLER</td><td>4000</td><td>2000</td></tr><tr><td>KING</td><td>4000</td><td>2000</td></tr><tr><td>CLARK</td><td>4000</td><td>2000</td></tr><tr><td>BLAKE</td><td>2850</td><td>null</td></tr><tr><td>JAMES</td><td>950</td><td>null</td></tr><tr><td>YODA</td><td>5000</td><td>null</td></tr><tr><td>Jonathan</td><td>null</td><td>null</td></tr><tr><td>SMITH</td><td>880</td><td>null</td></tr><tr><td>JONES</td><td>3273</td><td>null</td></tr><tr><td>SCOTT</td><td>3300</td><td>null</td></tr><tr><td>ADAMS</td><td>1210</td><td>null</td></tr><tr><td>FORD</td><td>3300</td><td>null</td></tr></tbody></table></div>"
      ]
     },
     "metadata": {
      "application/vnd.databricks.v1+output": {
       "addedWidgets": {},
       "aggData": [],
       "aggError": "",
       "aggOverflow": false,
       "aggSchema": [],
       "aggSeriesLimitReached": false,
       "aggType": "",
       "arguments": {},
       "columnCustomDisplayInfos": {},
       "data": [
        [
         "TURNER",
         "1500",
         "0"
        ],
        [
         "ALLEN",
         "1600",
         "300"
        ],
        [
         "WARD",
         "1250",
         "500"
        ],
        [
         "MARTIN",
         "1250",
         "1400"
        ],
        [
         "MILLER",
         "4000",
         "2000"
        ],
        [
         "KING",
         "4000",
         "2000"
        ],
        [
         "CLARK",
         "4000",
         "2000"
        ],
        [
         "BLAKE",
         "2850",
         null
        ],
        [
         "JAMES",
         "950",
         null
        ],
        [
         "YODA",
         "5000",
         null
        ],
        [
         "Jonathan",
         null,
         null
        ],
        [
         "SMITH",
         "880",
         null
        ],
        [
         "JONES",
         "3273",
         null
        ],
        [
         "SCOTT",
         "3300",
         null
        ],
        [
         "ADAMS",
         "1210",
         null
        ],
        [
         "FORD",
         "3300",
         null
        ]
       ],
       "datasetInfos": [],
       "dbfsResultPath": null,
       "isJsonSchema": true,
       "metadata": {},
       "overflow": false,
       "plotOptions": {
        "customPlotOptions": {},
        "displayType": "table",
        "pivotAggregation": null,
        "pivotColumns": null,
        "xColumns": null,
        "yColumns": null
       },
       "removedWidgets": [],
       "schema": [
        {
         "metadata": "{}",
         "name": "ename",
         "type": "\"string\""
        },
        {
         "metadata": "{}",
         "name": "sal",
         "type": "\"string\""
        },
        {
         "metadata": "{}",
         "name": "comm",
         "type": "\"string\""
        }
       ],
       "type": "table"
      }
     },
     "output_type": "display_data"
    }
   ],
   "source": [
    "from pyspark.sql.types import IntegerType\n",
    "emp.select('ename', 'sal', 'comm').orderBy(emp.comm.cast(IntegerType()).asc_nulls_last()).display()"
   ]
  },
  {
   "cell_type": "markdown",
   "metadata": {
    "application/vnd.databricks.v1+cell": {
     "cellMetadata": {},
     "inputWidgets": {},
     "nuid": "a48d34ff-961b-41b8-b6c2-cc12fd3b2041",
     "showTitle": false,
     "title": ""
    }
   },
   "source": [
    "#### C. `Pandas`"
   ]
  },
  {
   "cell_type": "code",
   "execution_count": 0,
   "metadata": {
    "application/vnd.databricks.v1+cell": {
     "cellMetadata": {
      "byteLimit": 2048000,
      "rowLimit": 10000
     },
     "inputWidgets": {},
     "nuid": "999326ad-36c5-487e-81e8-836f28eeb4f6",
     "showTitle": false,
     "title": ""
    }
   },
   "outputs": [
    {
     "output_type": "display_data",
     "data": {
      "text/html": [
       "<style scoped>\n",
       "  .table-result-container {\n",
       "    max-height: 300px;\n",
       "    overflow: auto;\n",
       "  }\n",
       "  table, th, td {\n",
       "    border: 1px solid black;\n",
       "    border-collapse: collapse;\n",
       "  }\n",
       "  th, td {\n",
       "    padding: 5px;\n",
       "  }\n",
       "  th {\n",
       "    text-align: left;\n",
       "  }\n",
       "</style><div class='table-result-container'><table class='table-result'><thead style='background-color: white'><tr><th>ename</th><th>sal</th><th>comm</th></tr></thead><tbody><tr><td>TURNER</td><td>1500</td><td>0.0</td></tr><tr><td>ALLEN</td><td>1600</td><td>300.0</td></tr><tr><td>WARD</td><td>1250</td><td>500.0</td></tr><tr><td>MARTIN</td><td>1250</td><td>1400.0</td></tr><tr><td>MILLER</td><td>4000</td><td>2000.0</td></tr><tr><td>KING</td><td>4000</td><td>2000.0</td></tr><tr><td>CLARK</td><td>4000</td><td>2000.0</td></tr><tr><td>BLAKE</td><td>2850</td><td>null</td></tr><tr><td>JAMES</td><td>950</td><td>null</td></tr><tr><td>YODA</td><td>5000</td><td>null</td></tr><tr><td>Jonathan</td><td>null</td><td>null</td></tr><tr><td>SMITH</td><td>880</td><td>null</td></tr><tr><td>JONES</td><td>3273</td><td>null</td></tr><tr><td>SCOTT</td><td>3300</td><td>null</td></tr><tr><td>ADAMS</td><td>1210</td><td>null</td></tr><tr><td>FORD</td><td>3300</td><td>null</td></tr></tbody></table></div>"
      ]
     },
     "metadata": {
      "application/vnd.databricks.v1+output": {
       "addedWidgets": {},
       "aggData": [],
       "aggError": "",
       "aggOverflow": false,
       "aggSchema": [],
       "aggSeriesLimitReached": false,
       "aggType": "",
       "arguments": {},
       "columnCustomDisplayInfos": {},
       "data": [
        [
         "TURNER",
         "1500",
         0.0
        ],
        [
         "ALLEN",
         "1600",
         300.0
        ],
        [
         "WARD",
         "1250",
         500.0
        ],
        [
         "MARTIN",
         "1250",
         1400.0
        ],
        [
         "MILLER",
         "4000",
         2000.0
        ],
        [
         "KING",
         "4000",
         2000.0
        ],
        [
         "CLARK",
         "4000",
         2000.0
        ],
        [
         "BLAKE",
         "2850",
         null
        ],
        [
         "JAMES",
         "950",
         null
        ],
        [
         "YODA",
         "5000",
         null
        ],
        [
         "Jonathan",
         null,
         null
        ],
        [
         "SMITH",
         "880",
         null
        ],
        [
         "JONES",
         "3273",
         null
        ],
        [
         "SCOTT",
         "3300",
         null
        ],
        [
         "ADAMS",
         "1210",
         null
        ],
        [
         "FORD",
         "3300",
         null
        ]
       ],
       "datasetInfos": [],
       "dbfsResultPath": null,
       "isJsonSchema": true,
       "metadata": {},
       "overflow": false,
       "plotOptions": {
        "customPlotOptions": {},
        "displayType": "table",
        "pivotAggregation": null,
        "pivotColumns": null,
        "xColumns": null,
        "yColumns": null
       },
       "removedWidgets": [],
       "schema": [
        {
         "metadata": "{}",
         "name": "ename",
         "type": "\"string\""
        },
        {
         "metadata": "{}",
         "name": "sal",
         "type": "\"string\""
        },
        {
         "metadata": "{}",
         "name": "comm",
         "type": "\"double\""
        }
       ],
       "type": "table"
      }
     },
     "output_type": "display_data"
    }
   ],
   "source": [
    "df_emp_pandas = emp.toPandas()\n",
    "df_emp_pandas['comm'] = df_emp_pandas[df_emp_pandas['comm'].notna()]['comm'].astype('int64')\n",
    "\n",
    "df_emp_pandas.sort_values(by='comm', na_position='last')[['ename', 'sal', 'comm']].display()"
   ]
  },
  {
   "cell_type": "markdown",
   "metadata": {
    "application/vnd.databricks.v1+cell": {
     "cellMetadata": {},
     "inputWidgets": {},
     "nuid": "616536a5-d8b2-4508-9aa6-f881b1a0e5e7",
     "showTitle": false,
     "title": ""
    }
   },
   "source": [
    "### 2. NON-NULL COMM SORTED DESCENDING, ALL NULLS FIRST"
   ]
  },
  {
   "cell_type": "markdown",
   "metadata": {
    "application/vnd.databricks.v1+cell": {
     "cellMetadata": {},
     "inputWidgets": {},
     "nuid": "c3e8f4a5-df8c-4465-8d3f-9a75610093db",
     "showTitle": false,
     "title": ""
    }
   },
   "source": [
    "#### A. `SQL`"
   ]
  },
  {
   "cell_type": "code",
   "execution_count": 0,
   "metadata": {
    "application/vnd.databricks.v1+cell": {
     "cellMetadata": {
      "byteLimit": 2048000,
      "implicitDf": true,
      "rowLimit": 10000
     },
     "inputWidgets": {},
     "nuid": "132ea7b9-b8cb-49ac-96bd-6ab0a3dc4282",
     "showTitle": false,
     "title": ""
    }
   },
   "outputs": [
    {
     "output_type": "display_data",
     "data": {
      "text/html": [
       "<style scoped>\n",
       "  .table-result-container {\n",
       "    max-height: 300px;\n",
       "    overflow: auto;\n",
       "  }\n",
       "  table, th, td {\n",
       "    border: 1px solid black;\n",
       "    border-collapse: collapse;\n",
       "  }\n",
       "  th, td {\n",
       "    padding: 5px;\n",
       "  }\n",
       "  th {\n",
       "    text-align: left;\n",
       "  }\n",
       "</style><div class='table-result-container'><table class='table-result'><thead style='background-color: white'><tr><th>ename</th><th>sal</th><th>comm</th></tr></thead><tbody><tr><td>BLAKE</td><td>2850</td><td>null</td></tr><tr><td>JAMES</td><td>950</td><td>null</td></tr><tr><td>YODA</td><td>5000</td><td>null</td></tr><tr><td>Jonathan</td><td>null</td><td>null</td></tr><tr><td>SMITH</td><td>880</td><td>null</td></tr><tr><td>JONES</td><td>3273</td><td>null</td></tr><tr><td>SCOTT</td><td>3300</td><td>null</td></tr><tr><td>ADAMS</td><td>1210</td><td>null</td></tr><tr><td>FORD</td><td>3300</td><td>null</td></tr><tr><td>MILLER</td><td>4000</td><td>2000</td></tr><tr><td>KING</td><td>4000</td><td>2000</td></tr><tr><td>CLARK</td><td>4000</td><td>2000</td></tr><tr><td>MARTIN</td><td>1250</td><td>1400</td></tr><tr><td>WARD</td><td>1250</td><td>500</td></tr><tr><td>ALLEN</td><td>1600</td><td>300</td></tr><tr><td>TURNER</td><td>1500</td><td>0</td></tr></tbody></table></div>"
      ]
     },
     "metadata": {
      "application/vnd.databricks.v1+output": {
       "addedWidgets": {},
       "aggData": [],
       "aggError": "",
       "aggOverflow": false,
       "aggSchema": [],
       "aggSeriesLimitReached": false,
       "aggType": "",
       "arguments": {},
       "columnCustomDisplayInfos": {},
       "data": [
        [
         "BLAKE",
         "2850",
         null
        ],
        [
         "JAMES",
         "950",
         null
        ],
        [
         "YODA",
         "5000",
         null
        ],
        [
         "Jonathan",
         null,
         null
        ],
        [
         "SMITH",
         "880",
         null
        ],
        [
         "JONES",
         "3273",
         null
        ],
        [
         "SCOTT",
         "3300",
         null
        ],
        [
         "ADAMS",
         "1210",
         null
        ],
        [
         "FORD",
         "3300",
         null
        ],
        [
         "MILLER",
         "4000",
         "2000"
        ],
        [
         "KING",
         "4000",
         "2000"
        ],
        [
         "CLARK",
         "4000",
         "2000"
        ],
        [
         "MARTIN",
         "1250",
         "1400"
        ],
        [
         "WARD",
         "1250",
         "500"
        ],
        [
         "ALLEN",
         "1600",
         "300"
        ],
        [
         "TURNER",
         "1500",
         "0"
        ]
       ],
       "datasetInfos": [],
       "dbfsResultPath": null,
       "isJsonSchema": true,
       "metadata": {},
       "overflow": false,
       "plotOptions": {
        "customPlotOptions": {},
        "displayType": "table",
        "pivotAggregation": null,
        "pivotColumns": null,
        "xColumns": null,
        "yColumns": null
       },
       "removedWidgets": [],
       "schema": [
        {
         "metadata": "{}",
         "name": "ename",
         "type": "\"string\""
        },
        {
         "metadata": "{}",
         "name": "sal",
         "type": "\"string\""
        },
        {
         "metadata": "{}",
         "name": "comm",
         "type": "\"string\""
        }
       ],
       "type": "table"
      }
     },
     "output_type": "display_data"
    }
   ],
   "source": [
    "%sql\n",
    "select ename, sal, comm\n",
    "from (\n",
    "    select ename, sal, comm, case when comm is null then 0 else 1 end as is_null\n",
    "    from emp\n",
    "    ) a\n",
    "order by is_null, cast(comm as int) desc"
   ]
  },
  {
   "cell_type": "code",
   "execution_count": 0,
   "metadata": {
    "application/vnd.databricks.v1+cell": {
     "cellMetadata": {
      "byteLimit": 2048000,
      "implicitDf": true,
      "rowLimit": 10000
     },
     "inputWidgets": {},
     "nuid": "fad96acd-b923-4481-9e09-a232783442f7",
     "showTitle": false,
     "title": ""
    }
   },
   "outputs": [
    {
     "output_type": "display_data",
     "data": {
      "text/html": [
       "<style scoped>\n",
       "  .table-result-container {\n",
       "    max-height: 300px;\n",
       "    overflow: auto;\n",
       "  }\n",
       "  table, th, td {\n",
       "    border: 1px solid black;\n",
       "    border-collapse: collapse;\n",
       "  }\n",
       "  th, td {\n",
       "    padding: 5px;\n",
       "  }\n",
       "  th {\n",
       "    text-align: left;\n",
       "  }\n",
       "</style><div class='table-result-container'><table class='table-result'><thead style='background-color: white'><tr><th>ename</th><th>sal</th><th>comm</th></tr></thead><tbody><tr><td>BLAKE</td><td>2850</td><td>null</td></tr><tr><td>JAMES</td><td>950</td><td>null</td></tr><tr><td>YODA</td><td>5000</td><td>null</td></tr><tr><td>Jonathan</td><td>null</td><td>null</td></tr><tr><td>SMITH</td><td>880</td><td>null</td></tr><tr><td>JONES</td><td>3273</td><td>null</td></tr><tr><td>SCOTT</td><td>3300</td><td>null</td></tr><tr><td>ADAMS</td><td>1210</td><td>null</td></tr><tr><td>FORD</td><td>3300</td><td>null</td></tr><tr><td>MILLER</td><td>4000</td><td>2000</td></tr><tr><td>KING</td><td>4000</td><td>2000</td></tr><tr><td>CLARK</td><td>4000</td><td>2000</td></tr><tr><td>MARTIN</td><td>1250</td><td>1400</td></tr><tr><td>WARD</td><td>1250</td><td>500</td></tr><tr><td>ALLEN</td><td>1600</td><td>300</td></tr><tr><td>TURNER</td><td>1500</td><td>0</td></tr></tbody></table></div>"
      ]
     },
     "metadata": {
      "application/vnd.databricks.v1+output": {
       "addedWidgets": {},
       "aggData": [],
       "aggError": "",
       "aggOverflow": false,
       "aggSchema": [],
       "aggSeriesLimitReached": false,
       "aggType": "",
       "arguments": {},
       "columnCustomDisplayInfos": {},
       "data": [
        [
         "BLAKE",
         "2850",
         null
        ],
        [
         "JAMES",
         "950",
         null
        ],
        [
         "YODA",
         "5000",
         null
        ],
        [
         "Jonathan",
         null,
         null
        ],
        [
         "SMITH",
         "880",
         null
        ],
        [
         "JONES",
         "3273",
         null
        ],
        [
         "SCOTT",
         "3300",
         null
        ],
        [
         "ADAMS",
         "1210",
         null
        ],
        [
         "FORD",
         "3300",
         null
        ],
        [
         "MILLER",
         "4000",
         "2000"
        ],
        [
         "KING",
         "4000",
         "2000"
        ],
        [
         "CLARK",
         "4000",
         "2000"
        ],
        [
         "MARTIN",
         "1250",
         "1400"
        ],
        [
         "WARD",
         "1250",
         "500"
        ],
        [
         "ALLEN",
         "1600",
         "300"
        ],
        [
         "TURNER",
         "1500",
         "0"
        ]
       ],
       "datasetInfos": [],
       "dbfsResultPath": null,
       "isJsonSchema": true,
       "metadata": {},
       "overflow": false,
       "plotOptions": {
        "customPlotOptions": {},
        "displayType": "table",
        "pivotAggregation": null,
        "pivotColumns": null,
        "xColumns": null,
        "yColumns": null
       },
       "removedWidgets": [],
       "schema": [
        {
         "metadata": "{}",
         "name": "ename",
         "type": "\"string\""
        },
        {
         "metadata": "{}",
         "name": "sal",
         "type": "\"string\""
        },
        {
         "metadata": "{}",
         "name": "comm",
         "type": "\"string\""
        }
       ],
       "type": "table"
      }
     },
     "output_type": "display_data"
    }
   ],
   "source": [
    "%sql\n",
    "select ename, sal, comm\n",
    "from emp\n",
    "order by cast(comm as int) desc nulls first"
   ]
  },
  {
   "cell_type": "markdown",
   "metadata": {
    "application/vnd.databricks.v1+cell": {
     "cellMetadata": {},
     "inputWidgets": {},
     "nuid": "edd15cf8-c6f4-46c6-a69b-12fab6842a7a",
     "showTitle": false,
     "title": ""
    }
   },
   "source": [
    "#### B. `PySpark`"
   ]
  },
  {
   "cell_type": "code",
   "execution_count": 0,
   "metadata": {
    "application/vnd.databricks.v1+cell": {
     "cellMetadata": {
      "byteLimit": 2048000,
      "rowLimit": 10000
     },
     "inputWidgets": {},
     "nuid": "b8ad7e1b-442b-42e9-9396-5b0e3a1418b0",
     "showTitle": false,
     "title": ""
    }
   },
   "outputs": [
    {
     "output_type": "display_data",
     "data": {
      "text/html": [
       "<style scoped>\n",
       "  .table-result-container {\n",
       "    max-height: 300px;\n",
       "    overflow: auto;\n",
       "  }\n",
       "  table, th, td {\n",
       "    border: 1px solid black;\n",
       "    border-collapse: collapse;\n",
       "  }\n",
       "  th, td {\n",
       "    padding: 5px;\n",
       "  }\n",
       "  th {\n",
       "    text-align: left;\n",
       "  }\n",
       "</style><div class='table-result-container'><table class='table-result'><thead style='background-color: white'><tr><th>ename</th><th>sal</th><th>comm</th></tr></thead><tbody><tr><td>BLAKE</td><td>2850</td><td>null</td></tr><tr><td>JAMES</td><td>950</td><td>null</td></tr><tr><td>YODA</td><td>5000</td><td>null</td></tr><tr><td>Jonathan</td><td>null</td><td>null</td></tr><tr><td>SMITH</td><td>880</td><td>null</td></tr><tr><td>JONES</td><td>3273</td><td>null</td></tr><tr><td>SCOTT</td><td>3300</td><td>null</td></tr><tr><td>ADAMS</td><td>1210</td><td>null</td></tr><tr><td>FORD</td><td>3300</td><td>null</td></tr><tr><td>MILLER</td><td>4000</td><td>2000</td></tr><tr><td>KING</td><td>4000</td><td>2000</td></tr><tr><td>CLARK</td><td>4000</td><td>2000</td></tr><tr><td>MARTIN</td><td>1250</td><td>1400</td></tr><tr><td>WARD</td><td>1250</td><td>500</td></tr><tr><td>ALLEN</td><td>1600</td><td>300</td></tr><tr><td>TURNER</td><td>1500</td><td>0</td></tr></tbody></table></div>"
      ]
     },
     "metadata": {
      "application/vnd.databricks.v1+output": {
       "addedWidgets": {},
       "aggData": [],
       "aggError": "",
       "aggOverflow": false,
       "aggSchema": [],
       "aggSeriesLimitReached": false,
       "aggType": "",
       "arguments": {},
       "columnCustomDisplayInfos": {},
       "data": [
        [
         "BLAKE",
         "2850",
         null
        ],
        [
         "JAMES",
         "950",
         null
        ],
        [
         "YODA",
         "5000",
         null
        ],
        [
         "Jonathan",
         null,
         null
        ],
        [
         "SMITH",
         "880",
         null
        ],
        [
         "JONES",
         "3273",
         null
        ],
        [
         "SCOTT",
         "3300",
         null
        ],
        [
         "ADAMS",
         "1210",
         null
        ],
        [
         "FORD",
         "3300",
         null
        ],
        [
         "MILLER",
         "4000",
         "2000"
        ],
        [
         "KING",
         "4000",
         "2000"
        ],
        [
         "CLARK",
         "4000",
         "2000"
        ],
        [
         "MARTIN",
         "1250",
         "1400"
        ],
        [
         "WARD",
         "1250",
         "500"
        ],
        [
         "ALLEN",
         "1600",
         "300"
        ],
        [
         "TURNER",
         "1500",
         "0"
        ]
       ],
       "datasetInfos": [],
       "dbfsResultPath": null,
       "isJsonSchema": true,
       "metadata": {},
       "overflow": false,
       "plotOptions": {
        "customPlotOptions": {},
        "displayType": "table",
        "pivotAggregation": null,
        "pivotColumns": null,
        "xColumns": null,
        "yColumns": null
       },
       "removedWidgets": [],
       "schema": [
        {
         "metadata": "{}",
         "name": "ename",
         "type": "\"string\""
        },
        {
         "metadata": "{}",
         "name": "sal",
         "type": "\"string\""
        },
        {
         "metadata": "{}",
         "name": "comm",
         "type": "\"string\""
        }
       ],
       "type": "table"
      }
     },
     "output_type": "display_data"
    }
   ],
   "source": [
    "from pyspark.sql.types import IntegerType\n",
    "emp.select('ename', 'sal', 'comm').orderBy(emp.comm.cast(IntegerType()).desc_nulls_first()).display()"
   ]
  },
  {
   "cell_type": "markdown",
   "metadata": {
    "application/vnd.databricks.v1+cell": {
     "cellMetadata": {},
     "inputWidgets": {},
     "nuid": "ae9f6bea-014a-4633-80b4-de1fa372bb27",
     "showTitle": false,
     "title": ""
    }
   },
   "source": [
    "#### C. `Pandas`"
   ]
  },
  {
   "cell_type": "code",
   "execution_count": 0,
   "metadata": {
    "application/vnd.databricks.v1+cell": {
     "cellMetadata": {
      "byteLimit": 2048000,
      "rowLimit": 10000
     },
     "inputWidgets": {},
     "nuid": "c058224c-b3be-4aec-8a52-e3dc91980b86",
     "showTitle": false,
     "title": ""
    }
   },
   "outputs": [
    {
     "output_type": "display_data",
     "data": {
      "text/html": [
       "<style scoped>\n",
       "  .table-result-container {\n",
       "    max-height: 300px;\n",
       "    overflow: auto;\n",
       "  }\n",
       "  table, th, td {\n",
       "    border: 1px solid black;\n",
       "    border-collapse: collapse;\n",
       "  }\n",
       "  th, td {\n",
       "    padding: 5px;\n",
       "  }\n",
       "  th {\n",
       "    text-align: left;\n",
       "  }\n",
       "</style><div class='table-result-container'><table class='table-result'><thead style='background-color: white'><tr><th>ename</th><th>sal</th><th>comm</th></tr></thead><tbody><tr><td>BLAKE</td><td>2850</td><td>null</td></tr><tr><td>JAMES</td><td>950</td><td>null</td></tr><tr><td>YODA</td><td>5000</td><td>null</td></tr><tr><td>Jonathan</td><td>null</td><td>null</td></tr><tr><td>SMITH</td><td>880</td><td>null</td></tr><tr><td>JONES</td><td>3273</td><td>null</td></tr><tr><td>SCOTT</td><td>3300</td><td>null</td></tr><tr><td>ADAMS</td><td>1210</td><td>null</td></tr><tr><td>FORD</td><td>3300</td><td>null</td></tr><tr><td>MILLER</td><td>4000</td><td>2000.0</td></tr><tr><td>KING</td><td>4000</td><td>2000.0</td></tr><tr><td>CLARK</td><td>4000</td><td>2000.0</td></tr><tr><td>MARTIN</td><td>1250</td><td>1400.0</td></tr><tr><td>WARD</td><td>1250</td><td>500.0</td></tr><tr><td>ALLEN</td><td>1600</td><td>300.0</td></tr><tr><td>TURNER</td><td>1500</td><td>0.0</td></tr></tbody></table></div>"
      ]
     },
     "metadata": {
      "application/vnd.databricks.v1+output": {
       "addedWidgets": {},
       "aggData": [],
       "aggError": "",
       "aggOverflow": false,
       "aggSchema": [],
       "aggSeriesLimitReached": false,
       "aggType": "",
       "arguments": {},
       "columnCustomDisplayInfos": {},
       "data": [
        [
         "BLAKE",
         "2850",
         null
        ],
        [
         "JAMES",
         "950",
         null
        ],
        [
         "YODA",
         "5000",
         null
        ],
        [
         "Jonathan",
         null,
         null
        ],
        [
         "SMITH",
         "880",
         null
        ],
        [
         "JONES",
         "3273",
         null
        ],
        [
         "SCOTT",
         "3300",
         null
        ],
        [
         "ADAMS",
         "1210",
         null
        ],
        [
         "FORD",
         "3300",
         null
        ],
        [
         "MILLER",
         "4000",
         2000.0
        ],
        [
         "KING",
         "4000",
         2000.0
        ],
        [
         "CLARK",
         "4000",
         2000.0
        ],
        [
         "MARTIN",
         "1250",
         1400.0
        ],
        [
         "WARD",
         "1250",
         500.0
        ],
        [
         "ALLEN",
         "1600",
         300.0
        ],
        [
         "TURNER",
         "1500",
         0.0
        ]
       ],
       "datasetInfos": [],
       "dbfsResultPath": null,
       "isJsonSchema": true,
       "metadata": {},
       "overflow": false,
       "plotOptions": {
        "customPlotOptions": {},
        "displayType": "table",
        "pivotAggregation": null,
        "pivotColumns": null,
        "xColumns": null,
        "yColumns": null
       },
       "removedWidgets": [],
       "schema": [
        {
         "metadata": "{}",
         "name": "ename",
         "type": "\"string\""
        },
        {
         "metadata": "{}",
         "name": "sal",
         "type": "\"string\""
        },
        {
         "metadata": "{}",
         "name": "comm",
         "type": "\"double\""
        }
       ],
       "type": "table"
      }
     },
     "output_type": "display_data"
    }
   ],
   "source": [
    "df_emp_pandas = emp.toPandas()\n",
    "df_emp_pandas['comm'] = df_emp_pandas[df_emp_pandas['comm'].notna()]['comm'].astype('int64')\n",
    "\n",
    "df_emp_pandas.sort_values(by='comm',\n",
    "                          ascending=False,\n",
    "                          na_position='first')[['ename', 'sal', 'comm']].display()"
   ]
  },
  {
   "cell_type": "markdown",
   "metadata": {
    "application/vnd.databricks.v1+cell": {
     "cellMetadata": {},
     "inputWidgets": {},
     "nuid": "866c5125-b50d-489f-a147-832995746cd9",
     "showTitle": false,
     "title": ""
    }
   },
   "source": [
    "### 3. NON-NULL COMM SORTED ASCENDING, ALL NULLS FIRST"
   ]
  },
  {
   "cell_type": "markdown",
   "metadata": {
    "application/vnd.databricks.v1+cell": {
     "cellMetadata": {},
     "inputWidgets": {},
     "nuid": "d71baeb5-91a1-4863-bd33-46735f628ce2",
     "showTitle": false,
     "title": ""
    }
   },
   "source": [
    "#### A. `SQL`"
   ]
  },
  {
   "cell_type": "code",
   "execution_count": 0,
   "metadata": {
    "application/vnd.databricks.v1+cell": {
     "cellMetadata": {
      "byteLimit": 2048000,
      "implicitDf": true,
      "rowLimit": 10000
     },
     "inputWidgets": {},
     "nuid": "f77fd879-8065-46fa-922a-8ba338935fff",
     "showTitle": false,
     "title": ""
    }
   },
   "outputs": [
    {
     "output_type": "display_data",
     "data": {
      "text/html": [
       "<style scoped>\n",
       "  .table-result-container {\n",
       "    max-height: 300px;\n",
       "    overflow: auto;\n",
       "  }\n",
       "  table, th, td {\n",
       "    border: 1px solid black;\n",
       "    border-collapse: collapse;\n",
       "  }\n",
       "  th, td {\n",
       "    padding: 5px;\n",
       "  }\n",
       "  th {\n",
       "    text-align: left;\n",
       "  }\n",
       "</style><div class='table-result-container'><table class='table-result'><thead style='background-color: white'><tr><th>ename</th><th>sal</th><th>comm</th></tr></thead><tbody><tr><td>BLAKE</td><td>2850</td><td>null</td></tr><tr><td>JAMES</td><td>950</td><td>null</td></tr><tr><td>YODA</td><td>5000</td><td>null</td></tr><tr><td>Jonathan</td><td>null</td><td>null</td></tr><tr><td>SMITH</td><td>880</td><td>null</td></tr><tr><td>JONES</td><td>3273</td><td>null</td></tr><tr><td>SCOTT</td><td>3300</td><td>null</td></tr><tr><td>ADAMS</td><td>1210</td><td>null</td></tr><tr><td>FORD</td><td>3300</td><td>null</td></tr><tr><td>TURNER</td><td>1500</td><td>0</td></tr><tr><td>ALLEN</td><td>1600</td><td>300</td></tr><tr><td>WARD</td><td>1250</td><td>500</td></tr><tr><td>MARTIN</td><td>1250</td><td>1400</td></tr><tr><td>MILLER</td><td>4000</td><td>2000</td></tr><tr><td>KING</td><td>4000</td><td>2000</td></tr><tr><td>CLARK</td><td>4000</td><td>2000</td></tr></tbody></table></div>"
      ]
     },
     "metadata": {
      "application/vnd.databricks.v1+output": {
       "addedWidgets": {},
       "aggData": [],
       "aggError": "",
       "aggOverflow": false,
       "aggSchema": [],
       "aggSeriesLimitReached": false,
       "aggType": "",
       "arguments": {},
       "columnCustomDisplayInfos": {},
       "data": [
        [
         "BLAKE",
         "2850",
         null
        ],
        [
         "JAMES",
         "950",
         null
        ],
        [
         "YODA",
         "5000",
         null
        ],
        [
         "Jonathan",
         null,
         null
        ],
        [
         "SMITH",
         "880",
         null
        ],
        [
         "JONES",
         "3273",
         null
        ],
        [
         "SCOTT",
         "3300",
         null
        ],
        [
         "ADAMS",
         "1210",
         null
        ],
        [
         "FORD",
         "3300",
         null
        ],
        [
         "TURNER",
         "1500",
         "0"
        ],
        [
         "ALLEN",
         "1600",
         "300"
        ],
        [
         "WARD",
         "1250",
         "500"
        ],
        [
         "MARTIN",
         "1250",
         "1400"
        ],
        [
         "MILLER",
         "4000",
         "2000"
        ],
        [
         "KING",
         "4000",
         "2000"
        ],
        [
         "CLARK",
         "4000",
         "2000"
        ]
       ],
       "datasetInfos": [],
       "dbfsResultPath": null,
       "isJsonSchema": true,
       "metadata": {},
       "overflow": false,
       "plotOptions": {
        "customPlotOptions": {},
        "displayType": "table",
        "pivotAggregation": null,
        "pivotColumns": null,
        "xColumns": null,
        "yColumns": null
       },
       "removedWidgets": [],
       "schema": [
        {
         "metadata": "{}",
         "name": "ename",
         "type": "\"string\""
        },
        {
         "metadata": "{}",
         "name": "sal",
         "type": "\"string\""
        },
        {
         "metadata": "{}",
         "name": "comm",
         "type": "\"string\""
        }
       ],
       "type": "table"
      }
     },
     "output_type": "display_data"
    }
   ],
   "source": [
    "%sql\n",
    "select ename, sal, comm \n",
    "from emp\n",
    "order by cast(comm as int) asc"
   ]
  },
  {
   "cell_type": "code",
   "execution_count": 0,
   "metadata": {
    "application/vnd.databricks.v1+cell": {
     "cellMetadata": {
      "byteLimit": 2048000,
      "implicitDf": true,
      "rowLimit": 10000
     },
     "inputWidgets": {},
     "nuid": "449ef05d-1888-4783-bf14-67ade1f0d6f8",
     "showTitle": false,
     "title": ""
    }
   },
   "outputs": [
    {
     "output_type": "display_data",
     "data": {
      "text/html": [
       "<style scoped>\n",
       "  .table-result-container {\n",
       "    max-height: 300px;\n",
       "    overflow: auto;\n",
       "  }\n",
       "  table, th, td {\n",
       "    border: 1px solid black;\n",
       "    border-collapse: collapse;\n",
       "  }\n",
       "  th, td {\n",
       "    padding: 5px;\n",
       "  }\n",
       "  th {\n",
       "    text-align: left;\n",
       "  }\n",
       "</style><div class='table-result-container'><table class='table-result'><thead style='background-color: white'><tr><th>ename</th><th>sal</th><th>comm</th></tr></thead><tbody><tr><td>BLAKE</td><td>2850</td><td>null</td></tr><tr><td>JAMES</td><td>950</td><td>null</td></tr><tr><td>YODA</td><td>5000</td><td>null</td></tr><tr><td>Jonathan</td><td>null</td><td>null</td></tr><tr><td>SMITH</td><td>880</td><td>null</td></tr><tr><td>JONES</td><td>3273</td><td>null</td></tr><tr><td>SCOTT</td><td>3300</td><td>null</td></tr><tr><td>ADAMS</td><td>1210</td><td>null</td></tr><tr><td>FORD</td><td>3300</td><td>null</td></tr><tr><td>TURNER</td><td>1500</td><td>0</td></tr><tr><td>ALLEN</td><td>1600</td><td>300</td></tr><tr><td>WARD</td><td>1250</td><td>500</td></tr><tr><td>MARTIN</td><td>1250</td><td>1400</td></tr><tr><td>MILLER</td><td>4000</td><td>2000</td></tr><tr><td>KING</td><td>4000</td><td>2000</td></tr><tr><td>CLARK</td><td>4000</td><td>2000</td></tr></tbody></table></div>"
      ]
     },
     "metadata": {
      "application/vnd.databricks.v1+output": {
       "addedWidgets": {},
       "aggData": [],
       "aggError": "",
       "aggOverflow": false,
       "aggSchema": [],
       "aggSeriesLimitReached": false,
       "aggType": "",
       "arguments": {},
       "columnCustomDisplayInfos": {},
       "data": [
        [
         "BLAKE",
         "2850",
         null
        ],
        [
         "JAMES",
         "950",
         null
        ],
        [
         "YODA",
         "5000",
         null
        ],
        [
         "Jonathan",
         null,
         null
        ],
        [
         "SMITH",
         "880",
         null
        ],
        [
         "JONES",
         "3273",
         null
        ],
        [
         "SCOTT",
         "3300",
         null
        ],
        [
         "ADAMS",
         "1210",
         null
        ],
        [
         "FORD",
         "3300",
         null
        ],
        [
         "TURNER",
         "1500",
         "0"
        ],
        [
         "ALLEN",
         "1600",
         "300"
        ],
        [
         "WARD",
         "1250",
         "500"
        ],
        [
         "MARTIN",
         "1250",
         "1400"
        ],
        [
         "MILLER",
         "4000",
         "2000"
        ],
        [
         "KING",
         "4000",
         "2000"
        ],
        [
         "CLARK",
         "4000",
         "2000"
        ]
       ],
       "datasetInfos": [],
       "dbfsResultPath": null,
       "isJsonSchema": true,
       "metadata": {},
       "overflow": false,
       "plotOptions": {
        "customPlotOptions": {},
        "displayType": "table",
        "pivotAggregation": null,
        "pivotColumns": null,
        "xColumns": null,
        "yColumns": null
       },
       "removedWidgets": [],
       "schema": [
        {
         "metadata": "{}",
         "name": "ename",
         "type": "\"string\""
        },
        {
         "metadata": "{}",
         "name": "sal",
         "type": "\"string\""
        },
        {
         "metadata": "{}",
         "name": "comm",
         "type": "\"string\""
        }
       ],
       "type": "table"
      }
     },
     "output_type": "display_data"
    }
   ],
   "source": [
    "%sql\n",
    "select ename, sal, comm \n",
    "from emp\n",
    "order by cast(comm as int) nulls first"
   ]
  },
  {
   "cell_type": "code",
   "execution_count": 0,
   "metadata": {
    "application/vnd.databricks.v1+cell": {
     "cellMetadata": {
      "byteLimit": 2048000,
      "implicitDf": true,
      "rowLimit": 10000
     },
     "inputWidgets": {},
     "nuid": "1e20575b-8de5-45bd-a586-3727fe9d982b",
     "showTitle": false,
     "title": ""
    }
   },
   "outputs": [
    {
     "output_type": "display_data",
     "data": {
      "text/html": [
       "<style scoped>\n",
       "  .table-result-container {\n",
       "    max-height: 300px;\n",
       "    overflow: auto;\n",
       "  }\n",
       "  table, th, td {\n",
       "    border: 1px solid black;\n",
       "    border-collapse: collapse;\n",
       "  }\n",
       "  th, td {\n",
       "    padding: 5px;\n",
       "  }\n",
       "  th {\n",
       "    text-align: left;\n",
       "  }\n",
       "</style><div class='table-result-container'><table class='table-result'><thead style='background-color: white'><tr><th>ename</th><th>sal</th><th>comm</th></tr></thead><tbody><tr><td>BLAKE</td><td>2850</td><td>null</td></tr><tr><td>JAMES</td><td>950</td><td>null</td></tr><tr><td>YODA</td><td>5000</td><td>null</td></tr><tr><td>Jonathan</td><td>null</td><td>null</td></tr><tr><td>SMITH</td><td>880</td><td>null</td></tr><tr><td>JONES</td><td>3273</td><td>null</td></tr><tr><td>SCOTT</td><td>3300</td><td>null</td></tr><tr><td>ADAMS</td><td>1210</td><td>null</td></tr><tr><td>FORD</td><td>3300</td><td>null</td></tr><tr><td>TURNER</td><td>1500</td><td>0</td></tr><tr><td>ALLEN</td><td>1600</td><td>300</td></tr><tr><td>WARD</td><td>1250</td><td>500</td></tr><tr><td>MARTIN</td><td>1250</td><td>1400</td></tr><tr><td>MILLER</td><td>4000</td><td>2000</td></tr><tr><td>KING</td><td>4000</td><td>2000</td></tr><tr><td>CLARK</td><td>4000</td><td>2000</td></tr></tbody></table></div>"
      ]
     },
     "metadata": {
      "application/vnd.databricks.v1+output": {
       "addedWidgets": {},
       "aggData": [],
       "aggError": "",
       "aggOverflow": false,
       "aggSchema": [],
       "aggSeriesLimitReached": false,
       "aggType": "",
       "arguments": {},
       "columnCustomDisplayInfos": {},
       "data": [
        [
         "BLAKE",
         "2850",
         null
        ],
        [
         "JAMES",
         "950",
         null
        ],
        [
         "YODA",
         "5000",
         null
        ],
        [
         "Jonathan",
         null,
         null
        ],
        [
         "SMITH",
         "880",
         null
        ],
        [
         "JONES",
         "3273",
         null
        ],
        [
         "SCOTT",
         "3300",
         null
        ],
        [
         "ADAMS",
         "1210",
         null
        ],
        [
         "FORD",
         "3300",
         null
        ],
        [
         "TURNER",
         "1500",
         "0"
        ],
        [
         "ALLEN",
         "1600",
         "300"
        ],
        [
         "WARD",
         "1250",
         "500"
        ],
        [
         "MARTIN",
         "1250",
         "1400"
        ],
        [
         "MILLER",
         "4000",
         "2000"
        ],
        [
         "KING",
         "4000",
         "2000"
        ],
        [
         "CLARK",
         "4000",
         "2000"
        ]
       ],
       "datasetInfos": [],
       "dbfsResultPath": null,
       "isJsonSchema": true,
       "metadata": {},
       "overflow": false,
       "plotOptions": {
        "customPlotOptions": {},
        "displayType": "table",
        "pivotAggregation": null,
        "pivotColumns": null,
        "xColumns": null,
        "yColumns": null
       },
       "removedWidgets": [],
       "schema": [
        {
         "metadata": "{}",
         "name": "ename",
         "type": "\"string\""
        },
        {
         "metadata": "{}",
         "name": "sal",
         "type": "\"string\""
        },
        {
         "metadata": "{}",
         "name": "comm",
         "type": "\"string\""
        }
       ],
       "type": "table"
      }
     },
     "output_type": "display_data"
    }
   ],
   "source": [
    "%sql\n",
    "select ename, sal, comm\n",
    "from (\n",
    "    select ename, sal, comm, case when comm is null then 0 else 1 end as is_null\n",
    "    from emp\n",
    "    ) a\n",
    "order by is_null, cast(comm as int)"
   ]
  },
  {
   "cell_type": "markdown",
   "metadata": {
    "application/vnd.databricks.v1+cell": {
     "cellMetadata": {},
     "inputWidgets": {},
     "nuid": "ff898fc7-8a20-496e-9cba-bbca132902a7",
     "showTitle": false,
     "title": ""
    }
   },
   "source": [
    "#### B. `PySpark`"
   ]
  },
  {
   "cell_type": "code",
   "execution_count": 0,
   "metadata": {
    "application/vnd.databricks.v1+cell": {
     "cellMetadata": {
      "byteLimit": 2048000,
      "rowLimit": 10000
     },
     "inputWidgets": {},
     "nuid": "94c7e48c-fdf2-4de3-abe6-3394f399f49f",
     "showTitle": false,
     "title": ""
    }
   },
   "outputs": [
    {
     "output_type": "display_data",
     "data": {
      "text/html": [
       "<style scoped>\n",
       "  .table-result-container {\n",
       "    max-height: 300px;\n",
       "    overflow: auto;\n",
       "  }\n",
       "  table, th, td {\n",
       "    border: 1px solid black;\n",
       "    border-collapse: collapse;\n",
       "  }\n",
       "  th, td {\n",
       "    padding: 5px;\n",
       "  }\n",
       "  th {\n",
       "    text-align: left;\n",
       "  }\n",
       "</style><div class='table-result-container'><table class='table-result'><thead style='background-color: white'><tr><th>ename</th><th>sal</th><th>comm</th></tr></thead><tbody><tr><td>BLAKE</td><td>2850</td><td>null</td></tr><tr><td>JAMES</td><td>950</td><td>null</td></tr><tr><td>YODA</td><td>5000</td><td>null</td></tr><tr><td>Jonathan</td><td>null</td><td>null</td></tr><tr><td>SMITH</td><td>880</td><td>null</td></tr><tr><td>JONES</td><td>3273</td><td>null</td></tr><tr><td>SCOTT</td><td>3300</td><td>null</td></tr><tr><td>ADAMS</td><td>1210</td><td>null</td></tr><tr><td>FORD</td><td>3300</td><td>null</td></tr><tr><td>TURNER</td><td>1500</td><td>0</td></tr><tr><td>ALLEN</td><td>1600</td><td>300</td></tr><tr><td>WARD</td><td>1250</td><td>500</td></tr><tr><td>MARTIN</td><td>1250</td><td>1400</td></tr><tr><td>MILLER</td><td>4000</td><td>2000</td></tr><tr><td>KING</td><td>4000</td><td>2000</td></tr><tr><td>CLARK</td><td>4000</td><td>2000</td></tr></tbody></table></div>"
      ]
     },
     "metadata": {
      "application/vnd.databricks.v1+output": {
       "addedWidgets": {},
       "aggData": [],
       "aggError": "",
       "aggOverflow": false,
       "aggSchema": [],
       "aggSeriesLimitReached": false,
       "aggType": "",
       "arguments": {},
       "columnCustomDisplayInfos": {},
       "data": [
        [
         "BLAKE",
         "2850",
         null
        ],
        [
         "JAMES",
         "950",
         null
        ],
        [
         "YODA",
         "5000",
         null
        ],
        [
         "Jonathan",
         null,
         null
        ],
        [
         "SMITH",
         "880",
         null
        ],
        [
         "JONES",
         "3273",
         null
        ],
        [
         "SCOTT",
         "3300",
         null
        ],
        [
         "ADAMS",
         "1210",
         null
        ],
        [
         "FORD",
         "3300",
         null
        ],
        [
         "TURNER",
         "1500",
         "0"
        ],
        [
         "ALLEN",
         "1600",
         "300"
        ],
        [
         "WARD",
         "1250",
         "500"
        ],
        [
         "MARTIN",
         "1250",
         "1400"
        ],
        [
         "MILLER",
         "4000",
         "2000"
        ],
        [
         "KING",
         "4000",
         "2000"
        ],
        [
         "CLARK",
         "4000",
         "2000"
        ]
       ],
       "datasetInfos": [],
       "dbfsResultPath": null,
       "isJsonSchema": true,
       "metadata": {},
       "overflow": false,
       "plotOptions": {
        "customPlotOptions": {},
        "displayType": "table",
        "pivotAggregation": null,
        "pivotColumns": null,
        "xColumns": null,
        "yColumns": null
       },
       "removedWidgets": [],
       "schema": [
        {
         "metadata": "{}",
         "name": "ename",
         "type": "\"string\""
        },
        {
         "metadata": "{}",
         "name": "sal",
         "type": "\"string\""
        },
        {
         "metadata": "{}",
         "name": "comm",
         "type": "\"string\""
        }
       ],
       "type": "table"
      }
     },
     "output_type": "display_data"
    }
   ],
   "source": [
    "from pyspark.sql.types import IntegerType\n",
    "emp.select('ename', 'sal', 'comm').orderBy(emp.comm.cast(IntegerType()).asc_nulls_first()).display()"
   ]
  },
  {
   "cell_type": "markdown",
   "metadata": {
    "application/vnd.databricks.v1+cell": {
     "cellMetadata": {},
     "inputWidgets": {},
     "nuid": "2b498aef-d2df-401f-9c11-5f595d55a9fb",
     "showTitle": false,
     "title": ""
    }
   },
   "source": [
    "#### C. `Pandas`"
   ]
  },
  {
   "cell_type": "code",
   "execution_count": 0,
   "metadata": {
    "application/vnd.databricks.v1+cell": {
     "cellMetadata": {
      "byteLimit": 2048000,
      "rowLimit": 10000
     },
     "inputWidgets": {},
     "nuid": "e568d3e3-1383-4289-ac0e-a4a6f9631f06",
     "showTitle": false,
     "title": ""
    }
   },
   "outputs": [
    {
     "output_type": "display_data",
     "data": {
      "text/html": [
       "<style scoped>\n",
       "  .table-result-container {\n",
       "    max-height: 300px;\n",
       "    overflow: auto;\n",
       "  }\n",
       "  table, th, td {\n",
       "    border: 1px solid black;\n",
       "    border-collapse: collapse;\n",
       "  }\n",
       "  th, td {\n",
       "    padding: 5px;\n",
       "  }\n",
       "  th {\n",
       "    text-align: left;\n",
       "  }\n",
       "</style><div class='table-result-container'><table class='table-result'><thead style='background-color: white'><tr><th>ename</th><th>sal</th><th>comm</th></tr></thead><tbody><tr><td>BLAKE</td><td>2850</td><td>null</td></tr><tr><td>JAMES</td><td>950</td><td>null</td></tr><tr><td>YODA</td><td>5000</td><td>null</td></tr><tr><td>Jonathan</td><td>null</td><td>null</td></tr><tr><td>SMITH</td><td>880</td><td>null</td></tr><tr><td>JONES</td><td>3273</td><td>null</td></tr><tr><td>SCOTT</td><td>3300</td><td>null</td></tr><tr><td>ADAMS</td><td>1210</td><td>null</td></tr><tr><td>FORD</td><td>3300</td><td>null</td></tr><tr><td>TURNER</td><td>1500</td><td>0.0</td></tr><tr><td>ALLEN</td><td>1600</td><td>300.0</td></tr><tr><td>WARD</td><td>1250</td><td>500.0</td></tr><tr><td>MARTIN</td><td>1250</td><td>1400.0</td></tr><tr><td>MILLER</td><td>4000</td><td>2000.0</td></tr><tr><td>KING</td><td>4000</td><td>2000.0</td></tr><tr><td>CLARK</td><td>4000</td><td>2000.0</td></tr></tbody></table></div>"
      ]
     },
     "metadata": {
      "application/vnd.databricks.v1+output": {
       "addedWidgets": {},
       "aggData": [],
       "aggError": "",
       "aggOverflow": false,
       "aggSchema": [],
       "aggSeriesLimitReached": false,
       "aggType": "",
       "arguments": {},
       "columnCustomDisplayInfos": {},
       "data": [
        [
         "BLAKE",
         "2850",
         null
        ],
        [
         "JAMES",
         "950",
         null
        ],
        [
         "YODA",
         "5000",
         null
        ],
        [
         "Jonathan",
         null,
         null
        ],
        [
         "SMITH",
         "880",
         null
        ],
        [
         "JONES",
         "3273",
         null
        ],
        [
         "SCOTT",
         "3300",
         null
        ],
        [
         "ADAMS",
         "1210",
         null
        ],
        [
         "FORD",
         "3300",
         null
        ],
        [
         "TURNER",
         "1500",
         0.0
        ],
        [
         "ALLEN",
         "1600",
         300.0
        ],
        [
         "WARD",
         "1250",
         500.0
        ],
        [
         "MARTIN",
         "1250",
         1400.0
        ],
        [
         "MILLER",
         "4000",
         2000.0
        ],
        [
         "KING",
         "4000",
         2000.0
        ],
        [
         "CLARK",
         "4000",
         2000.0
        ]
       ],
       "datasetInfos": [],
       "dbfsResultPath": null,
       "isJsonSchema": true,
       "metadata": {},
       "overflow": false,
       "plotOptions": {
        "customPlotOptions": {},
        "displayType": "table",
        "pivotAggregation": null,
        "pivotColumns": null,
        "xColumns": null,
        "yColumns": null
       },
       "removedWidgets": [],
       "schema": [
        {
         "metadata": "{}",
         "name": "ename",
         "type": "\"string\""
        },
        {
         "metadata": "{}",
         "name": "sal",
         "type": "\"string\""
        },
        {
         "metadata": "{}",
         "name": "comm",
         "type": "\"double\""
        }
       ],
       "type": "table"
      }
     },
     "output_type": "display_data"
    }
   ],
   "source": [
    "df_emp_pandas = emp.toPandas()\n",
    "df_emp_pandas['comm'] = df_emp_pandas[df_emp_pandas['comm'].notna()]['comm'].astype('int64')\n",
    "\n",
    "df_emp_pandas.sort_values(by='comm', na_position='first')[['ename', 'sal', 'comm']].display()"
   ]
  },
  {
   "cell_type": "markdown",
   "metadata": {
    "application/vnd.databricks.v1+cell": {
     "cellMetadata": {},
     "inputWidgets": {},
     "nuid": "51b870ea-f845-4a99-9fc3-31b177c90c3d",
     "showTitle": false,
     "title": ""
    }
   },
   "source": [
    "### 4. NON-NULL COMM SORTED DESCENDING, ALL NULLS LAST"
   ]
  },
  {
   "cell_type": "markdown",
   "metadata": {
    "application/vnd.databricks.v1+cell": {
     "cellMetadata": {},
     "inputWidgets": {},
     "nuid": "062b02bd-e392-49a4-837a-c2de30de278f",
     "showTitle": false,
     "title": ""
    }
   },
   "source": [
    "#### A. `SQL`"
   ]
  },
  {
   "cell_type": "code",
   "execution_count": 0,
   "metadata": {
    "application/vnd.databricks.v1+cell": {
     "cellMetadata": {
      "byteLimit": 2048000,
      "implicitDf": true,
      "rowLimit": 10000
     },
     "inputWidgets": {},
     "nuid": "f8d6e410-a2c0-4c11-8040-34f7b202d784",
     "showTitle": false,
     "title": ""
    }
   },
   "outputs": [
    {
     "output_type": "display_data",
     "data": {
      "text/html": [
       "<style scoped>\n",
       "  .table-result-container {\n",
       "    max-height: 300px;\n",
       "    overflow: auto;\n",
       "  }\n",
       "  table, th, td {\n",
       "    border: 1px solid black;\n",
       "    border-collapse: collapse;\n",
       "  }\n",
       "  th, td {\n",
       "    padding: 5px;\n",
       "  }\n",
       "  th {\n",
       "    text-align: left;\n",
       "  }\n",
       "</style><div class='table-result-container'><table class='table-result'><thead style='background-color: white'><tr><th>ename</th><th>sal</th><th>comm</th></tr></thead><tbody><tr><td>MILLER</td><td>4000</td><td>2000</td></tr><tr><td>KING</td><td>4000</td><td>2000</td></tr><tr><td>CLARK</td><td>4000</td><td>2000</td></tr><tr><td>MARTIN</td><td>1250</td><td>1400</td></tr><tr><td>WARD</td><td>1250</td><td>500</td></tr><tr><td>ALLEN</td><td>1600</td><td>300</td></tr><tr><td>TURNER</td><td>1500</td><td>0</td></tr><tr><td>BLAKE</td><td>2850</td><td>null</td></tr><tr><td>JAMES</td><td>950</td><td>null</td></tr><tr><td>YODA</td><td>5000</td><td>null</td></tr><tr><td>Jonathan</td><td>null</td><td>null</td></tr><tr><td>SMITH</td><td>880</td><td>null</td></tr><tr><td>JONES</td><td>3273</td><td>null</td></tr><tr><td>SCOTT</td><td>3300</td><td>null</td></tr><tr><td>ADAMS</td><td>1210</td><td>null</td></tr><tr><td>FORD</td><td>3300</td><td>null</td></tr></tbody></table></div>"
      ]
     },
     "metadata": {
      "application/vnd.databricks.v1+output": {
       "addedWidgets": {},
       "aggData": [],
       "aggError": "",
       "aggOverflow": false,
       "aggSchema": [],
       "aggSeriesLimitReached": false,
       "aggType": "",
       "arguments": {},
       "columnCustomDisplayInfos": {},
       "data": [
        [
         "MILLER",
         "4000",
         "2000"
        ],
        [
         "KING",
         "4000",
         "2000"
        ],
        [
         "CLARK",
         "4000",
         "2000"
        ],
        [
         "MARTIN",
         "1250",
         "1400"
        ],
        [
         "WARD",
         "1250",
         "500"
        ],
        [
         "ALLEN",
         "1600",
         "300"
        ],
        [
         "TURNER",
         "1500",
         "0"
        ],
        [
         "BLAKE",
         "2850",
         null
        ],
        [
         "JAMES",
         "950",
         null
        ],
        [
         "YODA",
         "5000",
         null
        ],
        [
         "Jonathan",
         null,
         null
        ],
        [
         "SMITH",
         "880",
         null
        ],
        [
         "JONES",
         "3273",
         null
        ],
        [
         "SCOTT",
         "3300",
         null
        ],
        [
         "ADAMS",
         "1210",
         null
        ],
        [
         "FORD",
         "3300",
         null
        ]
       ],
       "datasetInfos": [],
       "dbfsResultPath": null,
       "isJsonSchema": true,
       "metadata": {},
       "overflow": false,
       "plotOptions": {
        "customPlotOptions": {},
        "displayType": "table",
        "pivotAggregation": null,
        "pivotColumns": null,
        "xColumns": null,
        "yColumns": null
       },
       "removedWidgets": [],
       "schema": [
        {
         "metadata": "{}",
         "name": "ename",
         "type": "\"string\""
        },
        {
         "metadata": "{}",
         "name": "sal",
         "type": "\"string\""
        },
        {
         "metadata": "{}",
         "name": "comm",
         "type": "\"string\""
        }
       ],
       "type": "table"
      }
     },
     "output_type": "display_data"
    }
   ],
   "source": [
    "%sql\n",
    "select ename, sal, comm \n",
    "from emp\n",
    "order by cast(comm as int) desc"
   ]
  },
  {
   "cell_type": "code",
   "execution_count": 0,
   "metadata": {
    "application/vnd.databricks.v1+cell": {
     "cellMetadata": {
      "byteLimit": 2048000,
      "implicitDf": true,
      "rowLimit": 10000
     },
     "inputWidgets": {},
     "nuid": "39ed94be-7e8c-44bc-ace6-1f831510197b",
     "showTitle": false,
     "title": ""
    }
   },
   "outputs": [
    {
     "output_type": "display_data",
     "data": {
      "text/html": [
       "<style scoped>\n",
       "  .table-result-container {\n",
       "    max-height: 300px;\n",
       "    overflow: auto;\n",
       "  }\n",
       "  table, th, td {\n",
       "    border: 1px solid black;\n",
       "    border-collapse: collapse;\n",
       "  }\n",
       "  th, td {\n",
       "    padding: 5px;\n",
       "  }\n",
       "  th {\n",
       "    text-align: left;\n",
       "  }\n",
       "</style><div class='table-result-container'><table class='table-result'><thead style='background-color: white'><tr><th>ename</th><th>sal</th><th>comm</th></tr></thead><tbody><tr><td>MILLER</td><td>4000</td><td>2000</td></tr><tr><td>KING</td><td>4000</td><td>2000</td></tr><tr><td>CLARK</td><td>4000</td><td>2000</td></tr><tr><td>MARTIN</td><td>1250</td><td>1400</td></tr><tr><td>WARD</td><td>1250</td><td>500</td></tr><tr><td>ALLEN</td><td>1600</td><td>300</td></tr><tr><td>TURNER</td><td>1500</td><td>0</td></tr><tr><td>BLAKE</td><td>2850</td><td>null</td></tr><tr><td>JAMES</td><td>950</td><td>null</td></tr><tr><td>YODA</td><td>5000</td><td>null</td></tr><tr><td>Jonathan</td><td>null</td><td>null</td></tr><tr><td>SMITH</td><td>880</td><td>null</td></tr><tr><td>JONES</td><td>3273</td><td>null</td></tr><tr><td>SCOTT</td><td>3300</td><td>null</td></tr><tr><td>ADAMS</td><td>1210</td><td>null</td></tr><tr><td>FORD</td><td>3300</td><td>null</td></tr></tbody></table></div>"
      ]
     },
     "metadata": {
      "application/vnd.databricks.v1+output": {
       "addedWidgets": {},
       "aggData": [],
       "aggError": "",
       "aggOverflow": false,
       "aggSchema": [],
       "aggSeriesLimitReached": false,
       "aggType": "",
       "arguments": {},
       "columnCustomDisplayInfos": {},
       "data": [
        [
         "MILLER",
         "4000",
         "2000"
        ],
        [
         "KING",
         "4000",
         "2000"
        ],
        [
         "CLARK",
         "4000",
         "2000"
        ],
        [
         "MARTIN",
         "1250",
         "1400"
        ],
        [
         "WARD",
         "1250",
         "500"
        ],
        [
         "ALLEN",
         "1600",
         "300"
        ],
        [
         "TURNER",
         "1500",
         "0"
        ],
        [
         "BLAKE",
         "2850",
         null
        ],
        [
         "JAMES",
         "950",
         null
        ],
        [
         "YODA",
         "5000",
         null
        ],
        [
         "Jonathan",
         null,
         null
        ],
        [
         "SMITH",
         "880",
         null
        ],
        [
         "JONES",
         "3273",
         null
        ],
        [
         "SCOTT",
         "3300",
         null
        ],
        [
         "ADAMS",
         "1210",
         null
        ],
        [
         "FORD",
         "3300",
         null
        ]
       ],
       "datasetInfos": [],
       "dbfsResultPath": null,
       "isJsonSchema": true,
       "metadata": {},
       "overflow": false,
       "plotOptions": {
        "customPlotOptions": {},
        "displayType": "table",
        "pivotAggregation": null,
        "pivotColumns": null,
        "xColumns": null,
        "yColumns": null
       },
       "removedWidgets": [],
       "schema": [
        {
         "metadata": "{}",
         "name": "ename",
         "type": "\"string\""
        },
        {
         "metadata": "{}",
         "name": "sal",
         "type": "\"string\""
        },
        {
         "metadata": "{}",
         "name": "comm",
         "type": "\"string\""
        }
       ],
       "type": "table"
      }
     },
     "output_type": "display_data"
    }
   ],
   "source": [
    "%sql\n",
    "select ename, sal, comm \n",
    "from emp\n",
    "order by cast(comm as int) desc nulls last"
   ]
  },
  {
   "cell_type": "code",
   "execution_count": 0,
   "metadata": {
    "application/vnd.databricks.v1+cell": {
     "cellMetadata": {
      "byteLimit": 2048000,
      "implicitDf": true,
      "rowLimit": 10000
     },
     "inputWidgets": {},
     "nuid": "98ef5131-43f5-4eec-871f-1da317d34751",
     "showTitle": false,
     "title": ""
    }
   },
   "outputs": [
    {
     "output_type": "display_data",
     "data": {
      "text/html": [
       "<style scoped>\n",
       "  .table-result-container {\n",
       "    max-height: 300px;\n",
       "    overflow: auto;\n",
       "  }\n",
       "  table, th, td {\n",
       "    border: 1px solid black;\n",
       "    border-collapse: collapse;\n",
       "  }\n",
       "  th, td {\n",
       "    padding: 5px;\n",
       "  }\n",
       "  th {\n",
       "    text-align: left;\n",
       "  }\n",
       "</style><div class='table-result-container'><table class='table-result'><thead style='background-color: white'><tr><th>ename</th><th>sal</th><th>comm</th></tr></thead><tbody><tr><td>MILLER</td><td>4000</td><td>2000</td></tr><tr><td>KING</td><td>4000</td><td>2000</td></tr><tr><td>CLARK</td><td>4000</td><td>2000</td></tr><tr><td>MARTIN</td><td>1250</td><td>1400</td></tr><tr><td>WARD</td><td>1250</td><td>500</td></tr><tr><td>ALLEN</td><td>1600</td><td>300</td></tr><tr><td>TURNER</td><td>1500</td><td>0</td></tr><tr><td>BLAKE</td><td>2850</td><td>null</td></tr><tr><td>JAMES</td><td>950</td><td>null</td></tr><tr><td>YODA</td><td>5000</td><td>null</td></tr><tr><td>Jonathan</td><td>null</td><td>null</td></tr><tr><td>SMITH</td><td>880</td><td>null</td></tr><tr><td>JONES</td><td>3273</td><td>null</td></tr><tr><td>SCOTT</td><td>3300</td><td>null</td></tr><tr><td>ADAMS</td><td>1210</td><td>null</td></tr><tr><td>FORD</td><td>3300</td><td>null</td></tr></tbody></table></div>"
      ]
     },
     "metadata": {
      "application/vnd.databricks.v1+output": {
       "addedWidgets": {},
       "aggData": [],
       "aggError": "",
       "aggOverflow": false,
       "aggSchema": [],
       "aggSeriesLimitReached": false,
       "aggType": "",
       "arguments": {},
       "columnCustomDisplayInfos": {},
       "data": [
        [
         "MILLER",
         "4000",
         "2000"
        ],
        [
         "KING",
         "4000",
         "2000"
        ],
        [
         "CLARK",
         "4000",
         "2000"
        ],
        [
         "MARTIN",
         "1250",
         "1400"
        ],
        [
         "WARD",
         "1250",
         "500"
        ],
        [
         "ALLEN",
         "1600",
         "300"
        ],
        [
         "TURNER",
         "1500",
         "0"
        ],
        [
         "BLAKE",
         "2850",
         null
        ],
        [
         "JAMES",
         "950",
         null
        ],
        [
         "YODA",
         "5000",
         null
        ],
        [
         "Jonathan",
         null,
         null
        ],
        [
         "SMITH",
         "880",
         null
        ],
        [
         "JONES",
         "3273",
         null
        ],
        [
         "SCOTT",
         "3300",
         null
        ],
        [
         "ADAMS",
         "1210",
         null
        ],
        [
         "FORD",
         "3300",
         null
        ]
       ],
       "datasetInfos": [],
       "dbfsResultPath": null,
       "isJsonSchema": true,
       "metadata": {},
       "overflow": false,
       "plotOptions": {
        "customPlotOptions": {},
        "displayType": "table",
        "pivotAggregation": null,
        "pivotColumns": null,
        "xColumns": null,
        "yColumns": null
       },
       "removedWidgets": [],
       "schema": [
        {
         "metadata": "{}",
         "name": "ename",
         "type": "\"string\""
        },
        {
         "metadata": "{}",
         "name": "sal",
         "type": "\"string\""
        },
        {
         "metadata": "{}",
         "name": "comm",
         "type": "\"string\""
        }
       ],
       "type": "table"
      }
     },
     "output_type": "display_data"
    }
   ],
   "source": [
    "%sql\n",
    "select ename, sal, comm\n",
    "from (\n",
    "    select ename, sal, comm, case when comm is null then 0 else 1 end as is_null\n",
    "    from emp\n",
    "    ) a\n",
    "order by is_null desc, cast(comm as int) desc"
   ]
  },
  {
   "cell_type": "markdown",
   "metadata": {
    "application/vnd.databricks.v1+cell": {
     "cellMetadata": {},
     "inputWidgets": {},
     "nuid": "b4ab78ae-2733-4f2c-9139-5e17eef1e5e7",
     "showTitle": false,
     "title": ""
    }
   },
   "source": [
    "#### B. `PySpark`"
   ]
  },
  {
   "cell_type": "code",
   "execution_count": 0,
   "metadata": {
    "application/vnd.databricks.v1+cell": {
     "cellMetadata": {
      "byteLimit": 2048000,
      "rowLimit": 10000
     },
     "inputWidgets": {},
     "nuid": "c37c23ed-1201-49d8-8dc1-e2c521e1d57a",
     "showTitle": false,
     "title": ""
    }
   },
   "outputs": [
    {
     "output_type": "display_data",
     "data": {
      "text/html": [
       "<style scoped>\n",
       "  .table-result-container {\n",
       "    max-height: 300px;\n",
       "    overflow: auto;\n",
       "  }\n",
       "  table, th, td {\n",
       "    border: 1px solid black;\n",
       "    border-collapse: collapse;\n",
       "  }\n",
       "  th, td {\n",
       "    padding: 5px;\n",
       "  }\n",
       "  th {\n",
       "    text-align: left;\n",
       "  }\n",
       "</style><div class='table-result-container'><table class='table-result'><thead style='background-color: white'><tr><th>ename</th><th>sal</th><th>comm</th></tr></thead><tbody><tr><td>MILLER</td><td>4000</td><td>2000</td></tr><tr><td>KING</td><td>4000</td><td>2000</td></tr><tr><td>CLARK</td><td>4000</td><td>2000</td></tr><tr><td>MARTIN</td><td>1250</td><td>1400</td></tr><tr><td>WARD</td><td>1250</td><td>500</td></tr><tr><td>ALLEN</td><td>1600</td><td>300</td></tr><tr><td>TURNER</td><td>1500</td><td>0</td></tr><tr><td>BLAKE</td><td>2850</td><td>null</td></tr><tr><td>JAMES</td><td>950</td><td>null</td></tr><tr><td>YODA</td><td>5000</td><td>null</td></tr><tr><td>Jonathan</td><td>null</td><td>null</td></tr><tr><td>SMITH</td><td>880</td><td>null</td></tr><tr><td>JONES</td><td>3273</td><td>null</td></tr><tr><td>SCOTT</td><td>3300</td><td>null</td></tr><tr><td>ADAMS</td><td>1210</td><td>null</td></tr><tr><td>FORD</td><td>3300</td><td>null</td></tr></tbody></table></div>"
      ]
     },
     "metadata": {
      "application/vnd.databricks.v1+output": {
       "addedWidgets": {},
       "aggData": [],
       "aggError": "",
       "aggOverflow": false,
       "aggSchema": [],
       "aggSeriesLimitReached": false,
       "aggType": "",
       "arguments": {},
       "columnCustomDisplayInfos": {},
       "data": [
        [
         "MILLER",
         "4000",
         "2000"
        ],
        [
         "KING",
         "4000",
         "2000"
        ],
        [
         "CLARK",
         "4000",
         "2000"
        ],
        [
         "MARTIN",
         "1250",
         "1400"
        ],
        [
         "WARD",
         "1250",
         "500"
        ],
        [
         "ALLEN",
         "1600",
         "300"
        ],
        [
         "TURNER",
         "1500",
         "0"
        ],
        [
         "BLAKE",
         "2850",
         null
        ],
        [
         "JAMES",
         "950",
         null
        ],
        [
         "YODA",
         "5000",
         null
        ],
        [
         "Jonathan",
         null,
         null
        ],
        [
         "SMITH",
         "880",
         null
        ],
        [
         "JONES",
         "3273",
         null
        ],
        [
         "SCOTT",
         "3300",
         null
        ],
        [
         "ADAMS",
         "1210",
         null
        ],
        [
         "FORD",
         "3300",
         null
        ]
       ],
       "datasetInfos": [],
       "dbfsResultPath": null,
       "isJsonSchema": true,
       "metadata": {},
       "overflow": false,
       "plotOptions": {
        "customPlotOptions": {},
        "displayType": "table",
        "pivotAggregation": null,
        "pivotColumns": null,
        "xColumns": null,
        "yColumns": null
       },
       "removedWidgets": [],
       "schema": [
        {
         "metadata": "{}",
         "name": "ename",
         "type": "\"string\""
        },
        {
         "metadata": "{}",
         "name": "sal",
         "type": "\"string\""
        },
        {
         "metadata": "{}",
         "name": "comm",
         "type": "\"string\""
        }
       ],
       "type": "table"
      }
     },
     "output_type": "display_data"
    }
   ],
   "source": [
    "from pyspark.sql.types import IntegerType\n",
    "emp.select('ename', 'sal', 'comm').orderBy(emp.comm.cast(IntegerType()).desc_nulls_last()).display()"
   ]
  },
  {
   "cell_type": "markdown",
   "metadata": {
    "application/vnd.databricks.v1+cell": {
     "cellMetadata": {},
     "inputWidgets": {},
     "nuid": "3b2dbd95-0dd1-4196-a927-92836b17bcc9",
     "showTitle": false,
     "title": ""
    }
   },
   "source": [
    "#### C. `Pandas`"
   ]
  },
  {
   "cell_type": "code",
   "execution_count": 0,
   "metadata": {
    "application/vnd.databricks.v1+cell": {
     "cellMetadata": {
      "byteLimit": 2048000,
      "rowLimit": 10000
     },
     "inputWidgets": {},
     "nuid": "9dbd7e0c-0008-4a20-869b-446e6407f434",
     "showTitle": false,
     "title": ""
    }
   },
   "outputs": [
    {
     "output_type": "display_data",
     "data": {
      "text/html": [
       "<style scoped>\n",
       "  .table-result-container {\n",
       "    max-height: 300px;\n",
       "    overflow: auto;\n",
       "  }\n",
       "  table, th, td {\n",
       "    border: 1px solid black;\n",
       "    border-collapse: collapse;\n",
       "  }\n",
       "  th, td {\n",
       "    padding: 5px;\n",
       "  }\n",
       "  th {\n",
       "    text-align: left;\n",
       "  }\n",
       "</style><div class='table-result-container'><table class='table-result'><thead style='background-color: white'><tr><th>ename</th><th>sal</th><th>comm</th></tr></thead><tbody><tr><td>MILLER</td><td>4000</td><td>2000.0</td></tr><tr><td>KING</td><td>4000</td><td>2000.0</td></tr><tr><td>CLARK</td><td>4000</td><td>2000.0</td></tr><tr><td>MARTIN</td><td>1250</td><td>1400.0</td></tr><tr><td>WARD</td><td>1250</td><td>500.0</td></tr><tr><td>ALLEN</td><td>1600</td><td>300.0</td></tr><tr><td>TURNER</td><td>1500</td><td>0.0</td></tr><tr><td>BLAKE</td><td>2850</td><td>null</td></tr><tr><td>JAMES</td><td>950</td><td>null</td></tr><tr><td>YODA</td><td>5000</td><td>null</td></tr><tr><td>Jonathan</td><td>null</td><td>null</td></tr><tr><td>SMITH</td><td>880</td><td>null</td></tr><tr><td>JONES</td><td>3273</td><td>null</td></tr><tr><td>SCOTT</td><td>3300</td><td>null</td></tr><tr><td>ADAMS</td><td>1210</td><td>null</td></tr><tr><td>FORD</td><td>3300</td><td>null</td></tr></tbody></table></div>"
      ]
     },
     "metadata": {
      "application/vnd.databricks.v1+output": {
       "addedWidgets": {},
       "aggData": [],
       "aggError": "",
       "aggOverflow": false,
       "aggSchema": [],
       "aggSeriesLimitReached": false,
       "aggType": "",
       "arguments": {},
       "columnCustomDisplayInfos": {},
       "data": [
        [
         "MILLER",
         "4000",
         2000.0
        ],
        [
         "KING",
         "4000",
         2000.0
        ],
        [
         "CLARK",
         "4000",
         2000.0
        ],
        [
         "MARTIN",
         "1250",
         1400.0
        ],
        [
         "WARD",
         "1250",
         500.0
        ],
        [
         "ALLEN",
         "1600",
         300.0
        ],
        [
         "TURNER",
         "1500",
         0.0
        ],
        [
         "BLAKE",
         "2850",
         null
        ],
        [
         "JAMES",
         "950",
         null
        ],
        [
         "YODA",
         "5000",
         null
        ],
        [
         "Jonathan",
         null,
         null
        ],
        [
         "SMITH",
         "880",
         null
        ],
        [
         "JONES",
         "3273",
         null
        ],
        [
         "SCOTT",
         "3300",
         null
        ],
        [
         "ADAMS",
         "1210",
         null
        ],
        [
         "FORD",
         "3300",
         null
        ]
       ],
       "datasetInfos": [],
       "dbfsResultPath": null,
       "isJsonSchema": true,
       "metadata": {},
       "overflow": false,
       "plotOptions": {
        "customPlotOptions": {},
        "displayType": "table",
        "pivotAggregation": null,
        "pivotColumns": null,
        "xColumns": null,
        "yColumns": null
       },
       "removedWidgets": [],
       "schema": [
        {
         "metadata": "{}",
         "name": "ename",
         "type": "\"string\""
        },
        {
         "metadata": "{}",
         "name": "sal",
         "type": "\"string\""
        },
        {
         "metadata": "{}",
         "name": "comm",
         "type": "\"double\""
        }
       ],
       "type": "table"
      }
     },
     "output_type": "display_data"
    }
   ],
   "source": [
    "df_emp_pandas = emp.toPandas()\n",
    "df_emp_pandas['comm'] = df_emp_pandas[df_emp_pandas['comm'].notna()]['comm'].astype('int64')\n",
    "\n",
    "df_emp_pandas.sort_values(by='comm',\n",
    "                          ascending=False,\n",
    "                          na_position='last')[['ename', 'sal', 'comm']].display()"
   ]
  },
  {
   "cell_type": "markdown",
   "metadata": {
    "application/vnd.databricks.v1+cell": {
     "cellMetadata": {},
     "inputWidgets": {},
     "nuid": "e502e950-2234-409b-a3ef-23c385bdec17",
     "showTitle": false,
     "title": ""
    }
   },
   "source": [
    "## 6. Sorting on a Data-Dependent Key or Sorting on Conditional Logic"
   ]
  },
  {
   "cell_type": "markdown",
   "metadata": {
    "application/vnd.databricks.v1+cell": {
     "cellMetadata": {},
     "inputWidgets": {},
     "nuid": "65560e51-8901-4203-8b65-d0aba146aa4d",
     "showTitle": false,
     "title": ""
    }
   },
   "source": [
    "### A. `SQL`"
   ]
  },
  {
   "cell_type": "code",
   "execution_count": 0,
   "metadata": {
    "application/vnd.databricks.v1+cell": {
     "cellMetadata": {
      "byteLimit": 2048000,
      "implicitDf": true,
      "rowLimit": 10000
     },
     "inputWidgets": {},
     "nuid": "d1180d23-f909-4138-9d4c-7111f303c9e5",
     "showTitle": false,
     "title": ""
    }
   },
   "outputs": [
    {
     "output_type": "display_data",
     "data": {
      "text/html": [
       "<style scoped>\n",
       "  .table-result-container {\n",
       "    max-height: 300px;\n",
       "    overflow: auto;\n",
       "  }\n",
       "  table, th, td {\n",
       "    border: 1px solid black;\n",
       "    border-collapse: collapse;\n",
       "  }\n",
       "  th, td {\n",
       "    padding: 5px;\n",
       "  }\n",
       "  th {\n",
       "    text-align: left;\n",
       "  }\n",
       "</style><div class='table-result-container'><table class='table-result'><thead style='background-color: white'><tr><th>ename</th><th>sal</th><th>job</th><th>comm</th></tr></thead><tbody><tr><td>Jonathan</td><td>null</td><td>Editor</td><td>null</td></tr><tr><td>TURNER</td><td>1500</td><td>SALESMAN</td><td>0</td></tr><tr><td>ALLEN</td><td>1600</td><td>SALESMAN</td><td>300</td></tr><tr><td>WARD</td><td>1250</td><td>SALESMAN</td><td>500</td></tr><tr><td>SMITH</td><td>880</td><td>CLERK</td><td>null</td></tr><tr><td>JAMES</td><td>950</td><td>CLERK</td><td>null</td></tr><tr><td>ADAMS</td><td>1210</td><td>CLERK</td><td>null</td></tr><tr><td>MARTIN</td><td>1250</td><td>SALESMAN</td><td>1400</td></tr><tr><td>BLAKE</td><td>2850</td><td>MANAGER</td><td>null</td></tr><tr><td>JONES</td><td>3273</td><td>MANAGER</td><td>null</td></tr><tr><td>SCOTT</td><td>3300</td><td>ANALYST</td><td>null</td></tr><tr><td>FORD</td><td>3300</td><td>ANALYST</td><td>null</td></tr><tr><td>MILLER</td><td>4000</td><td>CLERK</td><td>2000</td></tr><tr><td>KING</td><td>4000</td><td>PRESIDENT</td><td>2000</td></tr><tr><td>CLARK</td><td>4000</td><td>MANAGER</td><td>2000</td></tr><tr><td>YODA</td><td>5000</td><td>JEDI</td><td>null</td></tr></tbody></table></div>"
      ]
     },
     "metadata": {
      "application/vnd.databricks.v1+output": {
       "addedWidgets": {},
       "aggData": [],
       "aggError": "",
       "aggOverflow": false,
       "aggSchema": [],
       "aggSeriesLimitReached": false,
       "aggType": "",
       "arguments": {},
       "columnCustomDisplayInfos": {},
       "data": [
        [
         "Jonathan",
         null,
         "Editor",
         null
        ],
        [
         "TURNER",
         "1500",
         "SALESMAN",
         "0"
        ],
        [
         "ALLEN",
         "1600",
         "SALESMAN",
         "300"
        ],
        [
         "WARD",
         "1250",
         "SALESMAN",
         "500"
        ],
        [
         "SMITH",
         "880",
         "CLERK",
         null
        ],
        [
         "JAMES",
         "950",
         "CLERK",
         null
        ],
        [
         "ADAMS",
         "1210",
         "CLERK",
         null
        ],
        [
         "MARTIN",
         "1250",
         "SALESMAN",
         "1400"
        ],
        [
         "BLAKE",
         "2850",
         "MANAGER",
         null
        ],
        [
         "JONES",
         "3273",
         "MANAGER",
         null
        ],
        [
         "SCOTT",
         "3300",
         "ANALYST",
         null
        ],
        [
         "FORD",
         "3300",
         "ANALYST",
         null
        ],
        [
         "MILLER",
         "4000",
         "CLERK",
         "2000"
        ],
        [
         "KING",
         "4000",
         "PRESIDENT",
         "2000"
        ],
        [
         "CLARK",
         "4000",
         "MANAGER",
         "2000"
        ],
        [
         "YODA",
         "5000",
         "JEDI",
         null
        ]
       ],
       "datasetInfos": [],
       "dbfsResultPath": null,
       "isJsonSchema": true,
       "metadata": {},
       "overflow": false,
       "plotOptions": {
        "customPlotOptions": {},
        "displayType": "table",
        "pivotAggregation": null,
        "pivotColumns": null,
        "xColumns": null,
        "yColumns": null
       },
       "removedWidgets": [],
       "schema": [
        {
         "metadata": "{}",
         "name": "ename",
         "type": "\"string\""
        },
        {
         "metadata": "{}",
         "name": "sal",
         "type": "\"string\""
        },
        {
         "metadata": "{}",
         "name": "job",
         "type": "\"string\""
        },
        {
         "metadata": "{}",
         "name": "comm",
         "type": "\"string\""
        }
       ],
       "type": "table"
      }
     },
     "output_type": "display_data"
    }
   ],
   "source": [
    "%sql\n",
    "select ename, sal, job , comm\n",
    "from emp\n",
    "order by case when job='SALESMAN' then cast(comm as int) else cast(sal as int) end"
   ]
  },
  {
   "cell_type": "code",
   "execution_count": 0,
   "metadata": {
    "application/vnd.databricks.v1+cell": {
     "cellMetadata": {
      "byteLimit": 2048000,
      "implicitDf": true,
      "rowLimit": 10000
     },
     "inputWidgets": {},
     "nuid": "f7e4b5cb-6d3b-4e01-8a05-bdea3165f2d3",
     "showTitle": false,
     "title": ""
    }
   },
   "outputs": [
    {
     "output_type": "display_data",
     "data": {
      "text/html": [
       "<style scoped>\n",
       "  .table-result-container {\n",
       "    max-height: 300px;\n",
       "    overflow: auto;\n",
       "  }\n",
       "  table, th, td {\n",
       "    border: 1px solid black;\n",
       "    border-collapse: collapse;\n",
       "  }\n",
       "  th, td {\n",
       "    padding: 5px;\n",
       "  }\n",
       "  th {\n",
       "    text-align: left;\n",
       "  }\n",
       "</style><div class='table-result-container'><table class='table-result'><thead style='background-color: white'><tr><th>ename</th><th>sal</th><th>job</th><th>comm</th><th>ordered</th></tr></thead><tbody><tr><td>Jonathan</td><td>null</td><td>Editor</td><td>null</td><td>null</td></tr><tr><td>TURNER</td><td>1500</td><td>SALESMAN</td><td>0</td><td>0</td></tr><tr><td>ALLEN</td><td>1600</td><td>SALESMAN</td><td>300</td><td>300</td></tr><tr><td>WARD</td><td>1250</td><td>SALESMAN</td><td>500</td><td>500</td></tr><tr><td>SMITH</td><td>880</td><td>CLERK</td><td>null</td><td>880</td></tr><tr><td>JAMES</td><td>950</td><td>CLERK</td><td>null</td><td>950</td></tr><tr><td>ADAMS</td><td>1210</td><td>CLERK</td><td>null</td><td>1210</td></tr><tr><td>MARTIN</td><td>1250</td><td>SALESMAN</td><td>1400</td><td>1400</td></tr><tr><td>BLAKE</td><td>2850</td><td>MANAGER</td><td>null</td><td>2850</td></tr><tr><td>JONES</td><td>3273</td><td>MANAGER</td><td>null</td><td>3273</td></tr><tr><td>SCOTT</td><td>3300</td><td>ANALYST</td><td>null</td><td>3300</td></tr><tr><td>FORD</td><td>3300</td><td>ANALYST</td><td>null</td><td>3300</td></tr><tr><td>MILLER</td><td>4000</td><td>CLERK</td><td>2000</td><td>4000</td></tr><tr><td>KING</td><td>4000</td><td>PRESIDENT</td><td>2000</td><td>4000</td></tr><tr><td>CLARK</td><td>4000</td><td>MANAGER</td><td>2000</td><td>4000</td></tr><tr><td>YODA</td><td>5000</td><td>JEDI</td><td>null</td><td>5000</td></tr></tbody></table></div>"
      ]
     },
     "metadata": {
      "application/vnd.databricks.v1+output": {
       "addedWidgets": {},
       "aggData": [],
       "aggError": "",
       "aggOverflow": false,
       "aggSchema": [],
       "aggSeriesLimitReached": false,
       "aggType": "",
       "arguments": {},
       "columnCustomDisplayInfos": {},
       "data": [
        [
         "Jonathan",
         null,
         "Editor",
         null,
         null
        ],
        [
         "TURNER",
         "1500",
         "SALESMAN",
         "0",
         0
        ],
        [
         "ALLEN",
         "1600",
         "SALESMAN",
         "300",
         300
        ],
        [
         "WARD",
         "1250",
         "SALESMAN",
         "500",
         500
        ],
        [
         "SMITH",
         "880",
         "CLERK",
         null,
         880
        ],
        [
         "JAMES",
         "950",
         "CLERK",
         null,
         950
        ],
        [
         "ADAMS",
         "1210",
         "CLERK",
         null,
         1210
        ],
        [
         "MARTIN",
         "1250",
         "SALESMAN",
         "1400",
         1400
        ],
        [
         "BLAKE",
         "2850",
         "MANAGER",
         null,
         2850
        ],
        [
         "JONES",
         "3273",
         "MANAGER",
         null,
         3273
        ],
        [
         "SCOTT",
         "3300",
         "ANALYST",
         null,
         3300
        ],
        [
         "FORD",
         "3300",
         "ANALYST",
         null,
         3300
        ],
        [
         "MILLER",
         "4000",
         "CLERK",
         "2000",
         4000
        ],
        [
         "KING",
         "4000",
         "PRESIDENT",
         "2000",
         4000
        ],
        [
         "CLARK",
         "4000",
         "MANAGER",
         "2000",
         4000
        ],
        [
         "YODA",
         "5000",
         "JEDI",
         null,
         5000
        ]
       ],
       "datasetInfos": [],
       "dbfsResultPath": null,
       "isJsonSchema": true,
       "metadata": {},
       "overflow": false,
       "plotOptions": {
        "customPlotOptions": {},
        "displayType": "table",
        "pivotAggregation": null,
        "pivotColumns": null,
        "xColumns": null,
        "yColumns": null
       },
       "removedWidgets": [],
       "schema": [
        {
         "metadata": "{}",
         "name": "ename",
         "type": "\"string\""
        },
        {
         "metadata": "{}",
         "name": "sal",
         "type": "\"string\""
        },
        {
         "metadata": "{}",
         "name": "job",
         "type": "\"string\""
        },
        {
         "metadata": "{}",
         "name": "comm",
         "type": "\"string\""
        },
        {
         "metadata": "{}",
         "name": "ordered",
         "type": "\"integer\""
        }
       ],
       "type": "table"
      }
     },
     "output_type": "display_data"
    }
   ],
   "source": [
    "%sql\n",
    "select ename, sal, job , comm, case when job='SALESMAN' then cast(comm as int) else cast(sal as int) end as ordered\n",
    "from emp\n",
    "order by ordered"
   ]
  },
  {
   "cell_type": "markdown",
   "metadata": {
    "application/vnd.databricks.v1+cell": {
     "cellMetadata": {},
     "inputWidgets": {},
     "nuid": "863369c5-ff87-414d-aa87-bc731e778838",
     "showTitle": false,
     "title": ""
    }
   },
   "source": [
    "### B. `PySpark`"
   ]
  },
  {
   "cell_type": "code",
   "execution_count": 0,
   "metadata": {
    "application/vnd.databricks.v1+cell": {
     "cellMetadata": {
      "byteLimit": 2048000,
      "rowLimit": 10000
     },
     "inputWidgets": {},
     "nuid": "d052954e-7458-43a9-9665-14336140b3f6",
     "showTitle": false,
     "title": ""
    }
   },
   "outputs": [
    {
     "output_type": "display_data",
     "data": {
      "text/html": [
       "<style scoped>\n",
       "  .table-result-container {\n",
       "    max-height: 300px;\n",
       "    overflow: auto;\n",
       "  }\n",
       "  table, th, td {\n",
       "    border: 1px solid black;\n",
       "    border-collapse: collapse;\n",
       "  }\n",
       "  th, td {\n",
       "    padding: 5px;\n",
       "  }\n",
       "  th {\n",
       "    text-align: left;\n",
       "  }\n",
       "</style><div class='table-result-container'><table class='table-result'><thead style='background-color: white'><tr><th>ename</th><th>sal</th><th>job</th><th>comm</th></tr></thead><tbody><tr><td>Jonathan</td><td>null</td><td>Editor</td><td>null</td></tr><tr><td>TURNER</td><td>1500</td><td>SALESMAN</td><td>0</td></tr><tr><td>ALLEN</td><td>1600</td><td>SALESMAN</td><td>300</td></tr><tr><td>WARD</td><td>1250</td><td>SALESMAN</td><td>500</td></tr><tr><td>SMITH</td><td>880</td><td>CLERK</td><td>null</td></tr><tr><td>JAMES</td><td>950</td><td>CLERK</td><td>null</td></tr><tr><td>ADAMS</td><td>1210</td><td>CLERK</td><td>null</td></tr><tr><td>MARTIN</td><td>1250</td><td>SALESMAN</td><td>1400</td></tr><tr><td>BLAKE</td><td>2850</td><td>MANAGER</td><td>null</td></tr><tr><td>JONES</td><td>3273</td><td>MANAGER</td><td>null</td></tr><tr><td>SCOTT</td><td>3300</td><td>ANALYST</td><td>null</td></tr><tr><td>FORD</td><td>3300</td><td>ANALYST</td><td>null</td></tr><tr><td>MILLER</td><td>4000</td><td>CLERK</td><td>2000</td></tr><tr><td>KING</td><td>4000</td><td>PRESIDENT</td><td>2000</td></tr><tr><td>CLARK</td><td>4000</td><td>MANAGER</td><td>2000</td></tr><tr><td>YODA</td><td>5000</td><td>JEDI</td><td>null</td></tr></tbody></table></div>"
      ]
     },
     "metadata": {
      "application/vnd.databricks.v1+output": {
       "addedWidgets": {},
       "aggData": [],
       "aggError": "",
       "aggOverflow": false,
       "aggSchema": [],
       "aggSeriesLimitReached": false,
       "aggType": "",
       "arguments": {},
       "columnCustomDisplayInfos": {},
       "data": [
        [
         "Jonathan",
         null,
         "Editor",
         null
        ],
        [
         "TURNER",
         "1500",
         "SALESMAN",
         "0"
        ],
        [
         "ALLEN",
         "1600",
         "SALESMAN",
         "300"
        ],
        [
         "WARD",
         "1250",
         "SALESMAN",
         "500"
        ],
        [
         "SMITH",
         "880",
         "CLERK",
         null
        ],
        [
         "JAMES",
         "950",
         "CLERK",
         null
        ],
        [
         "ADAMS",
         "1210",
         "CLERK",
         null
        ],
        [
         "MARTIN",
         "1250",
         "SALESMAN",
         "1400"
        ],
        [
         "BLAKE",
         "2850",
         "MANAGER",
         null
        ],
        [
         "JONES",
         "3273",
         "MANAGER",
         null
        ],
        [
         "SCOTT",
         "3300",
         "ANALYST",
         null
        ],
        [
         "FORD",
         "3300",
         "ANALYST",
         null
        ],
        [
         "MILLER",
         "4000",
         "CLERK",
         "2000"
        ],
        [
         "KING",
         "4000",
         "PRESIDENT",
         "2000"
        ],
        [
         "CLARK",
         "4000",
         "MANAGER",
         "2000"
        ],
        [
         "YODA",
         "5000",
         "JEDI",
         null
        ]
       ],
       "datasetInfos": [],
       "dbfsResultPath": null,
       "isJsonSchema": true,
       "metadata": {},
       "overflow": false,
       "plotOptions": {
        "customPlotOptions": {},
        "displayType": "table",
        "pivotAggregation": null,
        "pivotColumns": null,
        "xColumns": null,
        "yColumns": null
       },
       "removedWidgets": [],
       "schema": [
        {
         "metadata": "{}",
         "name": "ename",
         "type": "\"string\""
        },
        {
         "metadata": "{}",
         "name": "sal",
         "type": "\"string\""
        },
        {
         "metadata": "{}",
         "name": "job",
         "type": "\"string\""
        },
        {
         "metadata": "{}",
         "name": "comm",
         "type": "\"string\""
        }
       ],
       "type": "table"
      }
     },
     "output_type": "display_data"
    }
   ],
   "source": [
    "from pyspark.sql.functions import when\n",
    "from pyspark.sql.types import IntegerType\n",
    "emp.select('ename', 'sal', 'job', 'comm').orderBy(when(emp.job=='SALESMAN',emp.comm.cast(IntegerType())) \\\n",
    "                                               .otherwise(emp.sal.cast(IntegerType()))).display()"
   ]
  },
  {
   "cell_type": "markdown",
   "metadata": {
    "application/vnd.databricks.v1+cell": {
     "cellMetadata": {},
     "inputWidgets": {},
     "nuid": "f2ec07e9-56cc-4ad2-bd8b-a748b1505339",
     "showTitle": false,
     "title": ""
    }
   },
   "source": [
    "### C. `Pandas`"
   ]
  },
  {
   "cell_type": "code",
   "execution_count": 0,
   "metadata": {
    "application/vnd.databricks.v1+cell": {
     "cellMetadata": {
      "byteLimit": 2048000,
      "rowLimit": 10000
     },
     "inputWidgets": {},
     "nuid": "fffc0b48-7e5a-4530-a778-ee05e4f3e03b",
     "showTitle": false,
     "title": ""
    }
   },
   "outputs": [
    {
     "output_type": "display_data",
     "data": {
      "text/html": [
       "<style scoped>\n",
       "  .table-result-container {\n",
       "    max-height: 300px;\n",
       "    overflow: auto;\n",
       "  }\n",
       "  table, th, td {\n",
       "    border: 1px solid black;\n",
       "    border-collapse: collapse;\n",
       "  }\n",
       "  th, td {\n",
       "    padding: 5px;\n",
       "  }\n",
       "  th {\n",
       "    text-align: left;\n",
       "  }\n",
       "</style><div class='table-result-container'><table class='table-result'><thead style='background-color: white'><tr><th>ename</th><th>sal</th><th>job</th><th>comm</th></tr></thead><tbody><tr><td>Jonathan</td><td>null</td><td>Editor</td><td>null</td></tr><tr><td>TURNER</td><td>1500.0</td><td>SALESMAN</td><td>0.0</td></tr><tr><td>ALLEN</td><td>1600.0</td><td>SALESMAN</td><td>300.0</td></tr><tr><td>WARD</td><td>1250.0</td><td>SALESMAN</td><td>500.0</td></tr><tr><td>SMITH</td><td>880.0</td><td>CLERK</td><td>null</td></tr><tr><td>JAMES</td><td>950.0</td><td>CLERK</td><td>null</td></tr><tr><td>ADAMS</td><td>1210.0</td><td>CLERK</td><td>null</td></tr><tr><td>MARTIN</td><td>1250.0</td><td>SALESMAN</td><td>1400.0</td></tr><tr><td>BLAKE</td><td>2850.0</td><td>MANAGER</td><td>null</td></tr><tr><td>JONES</td><td>3273.0</td><td>MANAGER</td><td>null</td></tr><tr><td>SCOTT</td><td>3300.0</td><td>ANALYST</td><td>null</td></tr><tr><td>FORD</td><td>3300.0</td><td>ANALYST</td><td>null</td></tr><tr><td>MILLER</td><td>4000.0</td><td>CLERK</td><td>2000.0</td></tr><tr><td>KING</td><td>4000.0</td><td>PRESIDENT</td><td>2000.0</td></tr><tr><td>CLARK</td><td>4000.0</td><td>MANAGER</td><td>2000.0</td></tr><tr><td>YODA</td><td>5000.0</td><td>JEDI</td><td>null</td></tr></tbody></table></div>"
      ]
     },
     "metadata": {
      "application/vnd.databricks.v1+output": {
       "addedWidgets": {},
       "aggData": [],
       "aggError": "",
       "aggOverflow": false,
       "aggSchema": [],
       "aggSeriesLimitReached": false,
       "aggType": "",
       "arguments": {},
       "columnCustomDisplayInfos": {},
       "data": [
        [
         "Jonathan",
         null,
         "Editor",
         null
        ],
        [
         "TURNER",
         1500.0,
         "SALESMAN",
         0.0
        ],
        [
         "ALLEN",
         1600.0,
         "SALESMAN",
         300.0
        ],
        [
         "WARD",
         1250.0,
         "SALESMAN",
         500.0
        ],
        [
         "SMITH",
         880.0,
         "CLERK",
         null
        ],
        [
         "JAMES",
         950.0,
         "CLERK",
         null
        ],
        [
         "ADAMS",
         1210.0,
         "CLERK",
         null
        ],
        [
         "MARTIN",
         1250.0,
         "SALESMAN",
         1400.0
        ],
        [
         "BLAKE",
         2850.0,
         "MANAGER",
         null
        ],
        [
         "JONES",
         3273.0,
         "MANAGER",
         null
        ],
        [
         "SCOTT",
         3300.0,
         "ANALYST",
         null
        ],
        [
         "FORD",
         3300.0,
         "ANALYST",
         null
        ],
        [
         "MILLER",
         4000.0,
         "CLERK",
         2000.0
        ],
        [
         "KING",
         4000.0,
         "PRESIDENT",
         2000.0
        ],
        [
         "CLARK",
         4000.0,
         "MANAGER",
         2000.0
        ],
        [
         "YODA",
         5000.0,
         "JEDI",
         null
        ]
       ],
       "datasetInfos": [],
       "dbfsResultPath": null,
       "isJsonSchema": true,
       "metadata": {},
       "overflow": false,
       "plotOptions": {
        "customPlotOptions": {},
        "displayType": "table",
        "pivotAggregation": null,
        "pivotColumns": null,
        "xColumns": null,
        "yColumns": null
       },
       "removedWidgets": [],
       "schema": [
        {
         "metadata": "{}",
         "name": "ename",
         "type": "\"string\""
        },
        {
         "metadata": "{}",
         "name": "sal",
         "type": "\"double\""
        },
        {
         "metadata": "{}",
         "name": "job",
         "type": "\"string\""
        },
        {
         "metadata": "{}",
         "name": "comm",
         "type": "\"double\""
        }
       ],
       "type": "table"
      }
     },
     "output_type": "display_data"
    }
   ],
   "source": [
    "df_emp_pandas = emp.toPandas()\n",
    "\n",
    "df_emp_pandas['sal'] = df_emp_pandas[df_emp_pandas['sal'].notna()]['sal'].astype('int64')\n",
    "df_emp_pandas['comm'] = df_emp_pandas[df_emp_pandas['comm'].notna()]['comm'].astype('int64')\n",
    "\n",
    "\n",
    "df_emp_pandas['ordered'] = df_emp_pandas[['sal', 'comm', 'job']].apply(lambda x: x[1] if x[2]==\"SALESMAN\" else x[0],\n",
    "                                                                       axis=1)\n",
    "\n",
    "df_emp_pandas.sort_values(by=['ordered'],\n",
    "                          na_position='first')[['ename', 'sal', 'job', 'comm']].display()"
   ]
  }
 ],
 "metadata": {
  "application/vnd.databricks.v1+notebook": {
   "dashboards": [],
   "language": "python",
   "notebookMetadata": {
    "mostRecentlyExecutedCommandWithImplicitDF": {
     "commandId": 3537542186855265,
     "dataframes": [
      "_sqldf"
     ]
    },
    "pythonIndentUnit": 4
   },
   "notebookName": "Ch2_SortingQueryResults",
   "widgets": {}
  },
  "kernelspec": {
   "display_name": "Python 3 (ipykernel)",
   "language": "python",
   "name": "python3"
  },
  "language_info": {
   "codemirror_mode": {
    "name": "ipython",
    "version": 3
   },
   "file_extension": ".py",
   "mimetype": "text/x-python",
   "name": "python",
   "nbconvert_exporter": "python",
   "pygments_lexer": "ipython3",
   "version": "3.9.2"
  }
 },
 "nbformat": 4,
 "nbformat_minor": 0
}
